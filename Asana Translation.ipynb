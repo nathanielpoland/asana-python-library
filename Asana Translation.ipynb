{
 "cells": [
  {
   "cell_type": "code",
   "execution_count": 1,
   "id": "aacb1f76",
   "metadata": {
    "scrolled": true
   },
   "outputs": [
    {
     "name": "stdout",
     "output_type": "stream",
     "text": [
      "hello world\n"
     ]
    }
   ],
   "source": [
    "print('hello world')"
   ]
  },
  {
   "cell_type": "markdown",
   "id": "c11382c5",
   "metadata": {},
   "source": [
    "## Importing Packages"
   ]
  },
  {
   "cell_type": "code",
   "execution_count": 21,
   "id": "697e5d55",
   "metadata": {},
   "outputs": [],
   "source": [
    "import datetime as dt\n",
    "import asana\n",
    "import pandas as pd\n",
    "import json"
   ]
  },
  {
   "cell_type": "markdown",
   "id": "2824f0a6",
   "metadata": {},
   "source": [
    "## Python namespace and scope primer"
   ]
  },
  {
   "cell_type": "code",
   "execution_count": 33,
   "id": "64430e8e",
   "metadata": {},
   "outputs": [],
   "source": [
    "#vars() "
   ]
  },
  {
   "cell_type": "markdown",
   "id": "b289b773",
   "metadata": {},
   "source": [
    "vars() lists all variables in the global namespace. Note that the \"hidden\" variables are written with double underscores (dunders). This allows for conditional logic in scripts based on the namespace which calls the function;\n",
    "\n",
    "if __name__ == '__main__':\n",
    "    #do stuff\n",
    "    pass\n",
    "    \n",
    "When we run the lines above in a jupyter notebook, we are interacting with the top-level namespace(?). This logic allows us to both import a Python module (.py file), or to use it as our main script -- the line which follow the check will only be executed if it is the file we have open at the time -- but Not if we import the script into our namespace."
   ]
  },
  {
   "cell_type": "code",
   "execution_count": 35,
   "id": "de27d841",
   "metadata": {},
   "outputs": [
    {
     "name": "stdout",
     "output_type": "stream",
     "text": [
      "hello world\n"
     ]
    }
   ],
   "source": [
    "if __name__ == '__main__':\n",
    "    #do stuff\n",
    "    print('hello world')\n",
    "    pass\n"
   ]
  },
  {
   "cell_type": "code",
   "execution_count": null,
   "id": "5e3751a7",
   "metadata": {},
   "outputs": [],
   "source": [
    "vars(asana) # list all variables in the asana module namespace. "
   ]
  },
  {
   "cell_type": "code",
   "execution_count": 30,
   "id": "c1f0fbde",
   "metadata": {},
   "outputs": [
    {
     "data": {
      "text/plain": [
       "{'__name__': 'asana',\n",
       " '__doc__': None,\n",
       " '__package__': 'asana',\n",
       " '__loader__': <_frozen_importlib_external.SourceFileLoader at 0x2217c8faa60>,\n",
       " '__spec__': ModuleSpec(name='asana', loader=<_frozen_importlib_external.SourceFileLoader object at 0x000002217C8FAA60>, origin='C:\\\\Users\\\\Nathaniel\\\\anaconda3\\\\lib\\\\site-packages\\\\asana\\\\__init__.py', submodule_search_locations=['C:\\\\Users\\\\Nathaniel\\\\anaconda3\\\\lib\\\\site-packages\\\\asana']),\n",
       " '__path__': ['C:\\\\Users\\\\Nathaniel\\\\anaconda3\\\\lib\\\\site-packages\\\\asana'],\n",
       " '__file__': 'C:\\\\Users\\\\Nathaniel\\\\anaconda3\\\\lib\\\\site-packages\\\\asana\\\\__init__.py',\n",
       " '__cached__': 'C:\\\\Users\\\\Nathaniel\\\\anaconda3\\\\lib\\\\site-packages\\\\asana\\\\__pycache__\\\\__init__.cpython-39.pyc',\n",
       " '__builtins__': {'__name__': 'builtins',\n",
       "  '__doc__': \"Built-in functions, exceptions, and other objects.\\n\\nNoteworthy: None is the `nil' object; Ellipsis represents `...' in slices.\",\n",
       "  '__package__': '',\n",
       "  '__loader__': _frozen_importlib.BuiltinImporter,\n",
       "  '__spec__': ModuleSpec(name='builtins', loader=<class '_frozen_importlib.BuiltinImporter'>, origin='built-in'),\n",
       "  '__build_class__': <function __build_class__>,\n",
       "  '__import__': <function __import__>,\n",
       "  'abs': <function abs(x, /)>,\n",
       "  'all': <function all(iterable, /)>,\n",
       "  'any': <function any(iterable, /)>,\n",
       "  'ascii': <function ascii(obj, /)>,\n",
       "  'bin': <function bin(number, /)>,\n",
       "  'breakpoint': <function breakpoint>,\n",
       "  'callable': <function callable(obj, /)>,\n",
       "  'chr': <function chr(i, /)>,\n",
       "  'compile': <function compile(source, filename, mode, flags=0, dont_inherit=False, optimize=-1, *, _feature_version=-1)>,\n",
       "  'delattr': <function delattr(obj, name, /)>,\n",
       "  'dir': <function dir>,\n",
       "  'divmod': <function divmod(x, y, /)>,\n",
       "  'eval': <function eval(source, globals=None, locals=None, /)>,\n",
       "  'exec': <function exec(source, globals=None, locals=None, /)>,\n",
       "  'format': <function format(value, format_spec='', /)>,\n",
       "  'getattr': <function getattr>,\n",
       "  'globals': <function globals()>,\n",
       "  'hasattr': <function hasattr(obj, name, /)>,\n",
       "  'hash': <function hash(obj, /)>,\n",
       "  'hex': <function hex(number, /)>,\n",
       "  'id': <function id(obj, /)>,\n",
       "  'input': <bound method Kernel.raw_input of <ipykernel.ipkernel.IPythonKernel object at 0x000002217C880C70>>,\n",
       "  'isinstance': <function isinstance(obj, class_or_tuple, /)>,\n",
       "  'issubclass': <function issubclass(cls, class_or_tuple, /)>,\n",
       "  'iter': <function iter>,\n",
       "  'len': <function len(obj, /)>,\n",
       "  'locals': <function locals()>,\n",
       "  'max': <function max>,\n",
       "  'min': <function min>,\n",
       "  'next': <function next>,\n",
       "  'oct': <function oct(number, /)>,\n",
       "  'ord': <function ord(c, /)>,\n",
       "  'pow': <function pow(base, exp, mod=None)>,\n",
       "  'print': <function print>,\n",
       "  'repr': <function repr(obj, /)>,\n",
       "  'round': <function round(number, ndigits=None)>,\n",
       "  'setattr': <function setattr(obj, name, value, /)>,\n",
       "  'sorted': <function sorted(iterable, /, *, key=None, reverse=False)>,\n",
       "  'sum': <function sum(iterable, /, start=0)>,\n",
       "  'vars': <function vars>,\n",
       "  'None': None,\n",
       "  'Ellipsis': Ellipsis,\n",
       "  'NotImplemented': NotImplemented,\n",
       "  'False': False,\n",
       "  'True': True,\n",
       "  'bool': bool,\n",
       "  'memoryview': memoryview,\n",
       "  'bytearray': bytearray,\n",
       "  'bytes': bytes,\n",
       "  'classmethod': classmethod,\n",
       "  'complex': complex,\n",
       "  'dict': dict,\n",
       "  'enumerate': enumerate,\n",
       "  'filter': filter,\n",
       "  'float': float,\n",
       "  'frozenset': frozenset,\n",
       "  'property': property,\n",
       "  'int': int,\n",
       "  'list': list,\n",
       "  'map': map,\n",
       "  'object': object,\n",
       "  'range': range,\n",
       "  'reversed': reversed,\n",
       "  'set': set,\n",
       "  'slice': slice,\n",
       "  'staticmethod': staticmethod,\n",
       "  'str': str,\n",
       "  'super': super,\n",
       "  'tuple': tuple,\n",
       "  'type': type,\n",
       "  'zip': zip,\n",
       "  '__debug__': True,\n",
       "  'BaseException': BaseException,\n",
       "  'Exception': Exception,\n",
       "  'TypeError': TypeError,\n",
       "  'StopAsyncIteration': StopAsyncIteration,\n",
       "  'StopIteration': StopIteration,\n",
       "  'GeneratorExit': GeneratorExit,\n",
       "  'SystemExit': SystemExit,\n",
       "  'KeyboardInterrupt': KeyboardInterrupt,\n",
       "  'ImportError': ImportError,\n",
       "  'ModuleNotFoundError': ModuleNotFoundError,\n",
       "  'OSError': OSError,\n",
       "  'EnvironmentError': OSError,\n",
       "  'IOError': OSError,\n",
       "  'WindowsError': OSError,\n",
       "  'EOFError': EOFError,\n",
       "  'RuntimeError': RuntimeError,\n",
       "  'RecursionError': RecursionError,\n",
       "  'NotImplementedError': NotImplementedError,\n",
       "  'NameError': NameError,\n",
       "  'UnboundLocalError': UnboundLocalError,\n",
       "  'AttributeError': AttributeError,\n",
       "  'SyntaxError': SyntaxError,\n",
       "  'IndentationError': IndentationError,\n",
       "  'TabError': TabError,\n",
       "  'LookupError': LookupError,\n",
       "  'IndexError': IndexError,\n",
       "  'KeyError': KeyError,\n",
       "  'ValueError': ValueError,\n",
       "  'UnicodeError': UnicodeError,\n",
       "  'UnicodeEncodeError': UnicodeEncodeError,\n",
       "  'UnicodeDecodeError': UnicodeDecodeError,\n",
       "  'UnicodeTranslateError': UnicodeTranslateError,\n",
       "  'AssertionError': AssertionError,\n",
       "  'ArithmeticError': ArithmeticError,\n",
       "  'FloatingPointError': FloatingPointError,\n",
       "  'OverflowError': OverflowError,\n",
       "  'ZeroDivisionError': ZeroDivisionError,\n",
       "  'SystemError': SystemError,\n",
       "  'ReferenceError': ReferenceError,\n",
       "  'MemoryError': MemoryError,\n",
       "  'BufferError': BufferError,\n",
       "  'Warning': Warning,\n",
       "  'UserWarning': UserWarning,\n",
       "  'DeprecationWarning': DeprecationWarning,\n",
       "  'PendingDeprecationWarning': PendingDeprecationWarning,\n",
       "  'SyntaxWarning': SyntaxWarning,\n",
       "  'RuntimeWarning': RuntimeWarning,\n",
       "  'FutureWarning': FutureWarning,\n",
       "  'ImportWarning': ImportWarning,\n",
       "  'UnicodeWarning': UnicodeWarning,\n",
       "  'BytesWarning': BytesWarning,\n",
       "  'ResourceWarning': ResourceWarning,\n",
       "  'ConnectionError': ConnectionError,\n",
       "  'BlockingIOError': BlockingIOError,\n",
       "  'BrokenPipeError': BrokenPipeError,\n",
       "  'ChildProcessError': ChildProcessError,\n",
       "  'ConnectionAbortedError': ConnectionAbortedError,\n",
       "  'ConnectionRefusedError': ConnectionRefusedError,\n",
       "  'ConnectionResetError': ConnectionResetError,\n",
       "  'FileExistsError': FileExistsError,\n",
       "  'FileNotFoundError': FileNotFoundError,\n",
       "  'IsADirectoryError': IsADirectoryError,\n",
       "  'NotADirectoryError': NotADirectoryError,\n",
       "  'InterruptedError': InterruptedError,\n",
       "  'PermissionError': PermissionError,\n",
       "  'ProcessLookupError': ProcessLookupError,\n",
       "  'TimeoutError': TimeoutError,\n",
       "  'open': <function io.open(file, mode='r', buffering=-1, encoding=None, errors=None, newline=None, closefd=True, opener=None)>,\n",
       "  'copyright': Copyright (c) 2001-2022 Python Software Foundation.\n",
       "  All Rights Reserved.\n",
       "  \n",
       "  Copyright (c) 2000 BeOpen.com.\n",
       "  All Rights Reserved.\n",
       "  \n",
       "  Copyright (c) 1995-2001 Corporation for National Research Initiatives.\n",
       "  All Rights Reserved.\n",
       "  \n",
       "  Copyright (c) 1991-1995 Stichting Mathematisch Centrum, Amsterdam.\n",
       "  All Rights Reserved.,\n",
       "  'credits':     Thanks to CWI, CNRI, BeOpen.com, Zope Corporation and a cast of thousands\n",
       "      for supporting Python development.  See www.python.org for more information.,\n",
       "  'license': See https://www.python.org/psf/license/,\n",
       "  'help': Type help() for interactive help, or help(object) for help about object.,\n",
       "  'execfile': <function _pydev_imps._pydev_execfile.execfile(file, glob=None, loc=None)>,\n",
       "  'runfile': <function _pydev_bundle.pydev_umd.runfile(filename, args=None, wdir=None, namespace=None)>,\n",
       "  '__IPYTHON__': True,\n",
       "  'display': <function IPython.core.display_functions.display(*objs, include=None, exclude=None, metadata=None, transient=None, display_id=None, raw=False, clear=False, **kwargs)>,\n",
       "  'get_ipython': <bound method InteractiveShell.get_ipython of <ipykernel.zmqshell.ZMQInteractiveShell object at 0x000002217C8CAF70>>},\n",
       " '__title__': 'asana',\n",
       " '__license__': 'MIT',\n",
       " '__copyright__': 'Copyright 2016 Asana, Inc.',\n",
       " 'version': <module 'asana.version' from 'C:\\\\Users\\\\Nathaniel\\\\anaconda3\\\\lib\\\\site-packages\\\\asana\\\\version.py'>,\n",
       " '__version__': '0.10.13',\n",
       " 'error': <module 'asana.error' from 'C:\\\\Users\\\\Nathaniel\\\\anaconda3\\\\lib\\\\site-packages\\\\asana\\\\error.py'>,\n",
       " 'page_iterator': <module 'asana.page_iterator' from 'C:\\\\Users\\\\Nathaniel\\\\anaconda3\\\\lib\\\\site-packages\\\\asana\\\\page_iterator.py'>,\n",
       " 'resources': <module 'asana.resources' from 'C:\\\\Users\\\\Nathaniel\\\\anaconda3\\\\lib\\\\site-packages\\\\asana\\\\resources\\\\__init__.py'>,\n",
       " 'session': <module 'asana.session' from 'C:\\\\Users\\\\Nathaniel\\\\anaconda3\\\\lib\\\\site-packages\\\\asana\\\\session.py'>,\n",
       " 'client': <module 'asana.client' from 'C:\\\\Users\\\\Nathaniel\\\\anaconda3\\\\lib\\\\site-packages\\\\asana\\\\client.py'>,\n",
       " 'Client': asana.client.Client}"
      ]
     },
     "execution_count": 30,
     "metadata": {},
     "output_type": "execute_result"
    }
   ],
   "source": [
    "#import glob\n",
    "#glob.glob('*') # glob package is one way for us to access filepaths, list file names, etc."
   ]
  },
  {
   "cell_type": "markdown",
   "id": "ea47b64e",
   "metadata": {},
   "source": [
    "Python makes use of 'generator' objects in some circumstances. These behave a bit strangely (at first), but hold tremendous potential:"
   ]
  },
  {
   "cell_type": "code",
   "execution_count": 67,
   "id": "2e18d1d2",
   "metadata": {
    "scrolled": true
   },
   "outputs": [
    {
     "data": {
      "text/plain": [
       "<enumerate at 0x22103e74e40>"
      ]
     },
     "execution_count": 67,
     "metadata": {},
     "output_type": "execute_result"
    }
   ],
   "source": [
    "enumerate(range(4)) "
   ]
  },
  {
   "cell_type": "markdown",
   "id": "4c5d90c9",
   "metadata": {},
   "source": [
    "`enumerate` is one type of generator. Generators can be used as 'comprehensions', for lists or dictionaries. \n",
    "\n",
    "Take a look at some common data `types` in the list below:"
   ]
  },
  {
   "cell_type": "code",
   "execution_count": 91,
   "id": "bc8e973c",
   "metadata": {
    "scrolled": true
   },
   "outputs": [],
   "source": [
    "lst = [1,2.2,'c', list(enumerate(range(4))),{5,'f',7,'h'}, (9,'j',11), {k:v for (k, v) in enumerate(range(12))}, True]"
   ]
  },
  {
   "cell_type": "code",
   "execution_count": 92,
   "id": "4ce34070",
   "metadata": {},
   "outputs": [
    {
     "data": {
      "text/plain": [
       "<generator object <genexpr> at 0x0000022104369120>"
      ]
     },
     "execution_count": 92,
     "metadata": {},
     "output_type": "execute_result"
    }
   ],
   "source": [
    "(type(i) for i in lst) # this is a generator. "
   ]
  },
  {
   "cell_type": "markdown",
   "id": "bc209d56",
   "metadata": {},
   "source": [
    "Typically wrapped in parentheses, a generator can also be returned by a function (by using the `yield` keyword instead of the `return` keyword). To unpack a generator, simply pass it to the appropriate `type` constructor -- which is a function (and also an object...)"
   ]
  },
  {
   "cell_type": "code",
   "execution_count": 93,
   "id": "aa4d5ba1",
   "metadata": {},
   "outputs": [
    {
     "data": {
      "text/plain": [
       "[int, float, str, list, set, tuple, dict, bool]"
      ]
     },
     "execution_count": 93,
     "metadata": {},
     "output_type": "execute_result"
    }
   ],
   "source": [
    "list(type(i) for i in lst)"
   ]
  },
  {
   "cell_type": "markdown",
   "id": "b136a007",
   "metadata": {},
   "source": [
    "if we call list(), we return an empty list. But if we call list we can see the attributes of the `class object` which accepts arguments (and thereby serves as a `class constructor`):"
   ]
  },
  {
   "cell_type": "code",
   "execution_count": 71,
   "id": "cdb722fe",
   "metadata": {},
   "outputs": [
    {
     "data": {
      "text/plain": [
       "[]"
      ]
     },
     "execution_count": 71,
     "metadata": {},
     "output_type": "execute_result"
    }
   ],
   "source": [
    "list()"
   ]
  },
  {
   "cell_type": "code",
   "execution_count": 98,
   "id": "211ba33c",
   "metadata": {},
   "outputs": [
    {
     "data": {
      "text/plain": [
       "list"
      ]
     },
     "execution_count": 98,
     "metadata": {},
     "output_type": "execute_result"
    }
   ],
   "source": [
    "list"
   ]
  },
  {
   "cell_type": "code",
   "execution_count": 95,
   "id": "f66fadda",
   "metadata": {},
   "outputs": [
    {
     "data": {
      "text/plain": [
       "mappingproxy({'__repr__': <slot wrapper '__repr__' of 'list' objects>,\n",
       "              '__hash__': None,\n",
       "              '__getattribute__': <slot wrapper '__getattribute__' of 'list' objects>,\n",
       "              '__lt__': <slot wrapper '__lt__' of 'list' objects>,\n",
       "              '__le__': <slot wrapper '__le__' of 'list' objects>,\n",
       "              '__eq__': <slot wrapper '__eq__' of 'list' objects>,\n",
       "              '__ne__': <slot wrapper '__ne__' of 'list' objects>,\n",
       "              '__gt__': <slot wrapper '__gt__' of 'list' objects>,\n",
       "              '__ge__': <slot wrapper '__ge__' of 'list' objects>,\n",
       "              '__iter__': <slot wrapper '__iter__' of 'list' objects>,\n",
       "              '__init__': <slot wrapper '__init__' of 'list' objects>,\n",
       "              '__len__': <slot wrapper '__len__' of 'list' objects>,\n",
       "              '__getitem__': <method '__getitem__' of 'list' objects>,\n",
       "              '__setitem__': <slot wrapper '__setitem__' of 'list' objects>,\n",
       "              '__delitem__': <slot wrapper '__delitem__' of 'list' objects>,\n",
       "              '__add__': <slot wrapper '__add__' of 'list' objects>,\n",
       "              '__mul__': <slot wrapper '__mul__' of 'list' objects>,\n",
       "              '__rmul__': <slot wrapper '__rmul__' of 'list' objects>,\n",
       "              '__contains__': <slot wrapper '__contains__' of 'list' objects>,\n",
       "              '__iadd__': <slot wrapper '__iadd__' of 'list' objects>,\n",
       "              '__imul__': <slot wrapper '__imul__' of 'list' objects>,\n",
       "              '__new__': <function list.__new__(*args, **kwargs)>,\n",
       "              '__reversed__': <method '__reversed__' of 'list' objects>,\n",
       "              '__sizeof__': <method '__sizeof__' of 'list' objects>,\n",
       "              'clear': <method 'clear' of 'list' objects>,\n",
       "              'copy': <method 'copy' of 'list' objects>,\n",
       "              'append': <method 'append' of 'list' objects>,\n",
       "              'insert': <method 'insert' of 'list' objects>,\n",
       "              'extend': <method 'extend' of 'list' objects>,\n",
       "              'pop': <method 'pop' of 'list' objects>,\n",
       "              'remove': <method 'remove' of 'list' objects>,\n",
       "              'index': <method 'index' of 'list' objects>,\n",
       "              'count': <method 'count' of 'list' objects>,\n",
       "              'reverse': <method 'reverse' of 'list' objects>,\n",
       "              'sort': <method 'sort' of 'list' objects>,\n",
       "              '__class_getitem__': <method '__class_getitem__' of 'list' objects>,\n",
       "              '__doc__': 'Built-in mutable sequence.\\n\\nIf no argument is given, the constructor creates a new empty list.\\nThe argument must be an iterable if specified.'})"
      ]
     },
     "execution_count": 95,
     "metadata": {},
     "output_type": "execute_result"
    }
   ],
   "source": [
    "list.__dict__ # this is the CLASS definition of attributes. \n",
    "\n",
    "#Don't mess around with dunder properties unless you know what you're doing -- especially with a built-in class object.\n",
    "# some notables from below: equality operators (less than, less or equal, equal, not equal, greater than, greater or eqal)\n",
    "# we can also find the `class functions` that this object has access to (accessed through 'dot notation')"
   ]
  },
  {
   "cell_type": "markdown",
   "id": "8692a13f",
   "metadata": {},
   "source": [
    "To demonstrate the differences between a class object and an instance of a class object, let's use an example."
   ]
  },
  {
   "cell_type": "code",
   "execution_count": 118,
   "id": "e99e7724",
   "metadata": {},
   "outputs": [],
   "source": [
    "class RijulTest1:\n",
    "\n",
    "    def __init__(self): # the init function is called upon assignment (the binding of a class instance to a variable)\n",
    "        print('I have no arguments except self')\n",
    "        self.message = 'My self.message attribute was set in the init'\n",
    "        pass\n",
    "    \n",
    "    def test(self):\n",
    "        print(self.message)\n",
    "        print('this attribute is not a function, and does not require parentheses. When calling a class function (or method) of a bound instance of a class object, `self` is passed as the first argument')\n",
    "    "
   ]
  },
  {
   "cell_type": "code",
   "execution_count": 119,
   "id": "e0f307c3",
   "metadata": {},
   "outputs": [
    {
     "name": "stdout",
     "output_type": "stream",
     "text": [
      "I have no arguments except self\n"
     ]
    }
   ],
   "source": [
    "my_instance = RijulTest1()"
   ]
  },
  {
   "cell_type": "code",
   "execution_count": 120,
   "id": "6ceae299",
   "metadata": {},
   "outputs": [
    {
     "data": {
      "text/plain": [
       "<__main__.RijulTest1 at 0x2210457a100>"
      ]
     },
     "execution_count": 120,
     "metadata": {},
     "output_type": "execute_result"
    }
   ],
   "source": [
    "my_instance"
   ]
  },
  {
   "cell_type": "code",
   "execution_count": 121,
   "id": "b2f28f62",
   "metadata": {},
   "outputs": [
    {
     "data": {
      "text/plain": [
       "<bound method RijulTest1.test of <__main__.RijulTest1 object at 0x000002210457A100>>"
      ]
     },
     "execution_count": 121,
     "metadata": {},
     "output_type": "execute_result"
    }
   ],
   "source": [
    "my_instance.test"
   ]
  },
  {
   "cell_type": "code",
   "execution_count": 122,
   "id": "f3d21086",
   "metadata": {},
   "outputs": [
    {
     "name": "stdout",
     "output_type": "stream",
     "text": [
      "My self.message attribute was set in the init\n",
      "this attribute is not a function, and does not require parentheses. When calling a class function (or method) of a bound instance of a class object, `self` is passed as the first argument\n"
     ]
    }
   ],
   "source": [
    "my_instance.test()"
   ]
  },
  {
   "cell_type": "code",
   "execution_count": 117,
   "id": "3b3ed151",
   "metadata": {},
   "outputs": [
    {
     "data": {
      "text/plain": [
       "'My self.message attribute was set in the init'"
      ]
     },
     "execution_count": 117,
     "metadata": {},
     "output_type": "execute_result"
    }
   ],
   "source": [
    "my_instance.message"
   ]
  },
  {
   "cell_type": "code",
   "execution_count": 101,
   "id": "29844d1f",
   "metadata": {},
   "outputs": [
    {
     "data": {
      "text/plain": [
       "__main__.RijulTest1"
      ]
     },
     "execution_count": 101,
     "metadata": {},
     "output_type": "execute_result"
    }
   ],
   "source": [
    "RijulTest1"
   ]
  },
  {
   "cell_type": "code",
   "execution_count": 80,
   "id": "379e10b8",
   "metadata": {},
   "outputs": [
    {
     "data": {
      "text/plain": [
       "mappingproxy({'__module__': '__main__',\n",
       "              '__init__': <function __main__.RijulTest1.__init__(self)>,\n",
       "              'test': <function __main__.RijulTest1.test(self)>,\n",
       "              '__dict__': <attribute '__dict__' of 'RijulTest1' objects>,\n",
       "              '__weakref__': <attribute '__weakref__' of 'RijulTest1' objects>,\n",
       "              '__doc__': None})"
      ]
     },
     "execution_count": 80,
     "metadata": {},
     "output_type": "execute_result"
    }
   ],
   "source": [
    "RijulTest1.__dict__"
   ]
  },
  {
   "cell_type": "markdown",
   "id": "ab643dfc",
   "metadata": {},
   "source": [
    "Calling the `class constructor` calls the \\_\\_init\\_\\_ method, where 'self' is the variable name passed to the call."
   ]
  },
  {
   "cell_type": "code",
   "execution_count": 82,
   "id": "cf315a85",
   "metadata": {},
   "outputs": [
    {
     "name": "stdout",
     "output_type": "stream",
     "text": [
      "I have no arguments\n"
     ]
    },
    {
     "data": {
      "text/plain": [
       "<__main__.RijulTest1 at 0x221045d8c40>"
      ]
     },
     "execution_count": 82,
     "metadata": {},
     "output_type": "execute_result"
    }
   ],
   "source": [
    "RijulTest1()"
   ]
  },
  {
   "cell_type": "markdown",
   "id": "08db2462",
   "metadata": {},
   "source": [
    "We can alter the functions or attributes of the `instance` of the class without disrupting the actual class definition held in the namespace:"
   ]
  },
  {
   "cell_type": "code",
   "execution_count": 85,
   "id": "9d851c38",
   "metadata": {},
   "outputs": [],
   "source": [
    "my_instance.new_attribute = 'This is a manually assigned attribute of my_instance'"
   ]
  },
  {
   "cell_type": "code",
   "execution_count": 86,
   "id": "242fab59",
   "metadata": {},
   "outputs": [
    {
     "data": {
      "text/plain": [
       "'This is a manually assigned attribute of my_instance'"
      ]
     },
     "execution_count": 86,
     "metadata": {},
     "output_type": "execute_result"
    }
   ],
   "source": [
    "my_instance.new_attribute"
   ]
  },
  {
   "cell_type": "markdown",
   "id": "89c11c75",
   "metadata": {},
   "source": [
    "Or we can alter the class definition itself:"
   ]
  },
  {
   "cell_type": "code",
   "execution_count": 87,
   "id": "cb31f299",
   "metadata": {},
   "outputs": [],
   "source": [
    "RijulTest1.class_attribute = 'This is a string, but it could be something else.'"
   ]
  },
  {
   "cell_type": "markdown",
   "id": "d01eb7d3",
   "metadata": {},
   "source": [
    "The instance we had already instantiated does not have the `class_attribute`:"
   ]
  },
  {
   "cell_type": "code",
   "execution_count": 88,
   "id": "c8481535",
   "metadata": {},
   "outputs": [
    {
     "ename": "AttributeError",
     "evalue": "type object 'RijulTest1' has no attribute 'new_attribute'",
     "output_type": "error",
     "traceback": [
      "\u001b[1;31m---------------------------------------------------------------------------\u001b[0m",
      "\u001b[1;31mAttributeError\u001b[0m                            Traceback (most recent call last)",
      "Input \u001b[1;32mIn [88]\u001b[0m, in \u001b[0;36m<cell line: 1>\u001b[1;34m()\u001b[0m\n\u001b[1;32m----> 1\u001b[0m \u001b[43mRijulTest1\u001b[49m\u001b[38;5;241;43m.\u001b[39;49m\u001b[43mnew_attribute\u001b[49m\n",
      "\u001b[1;31mAttributeError\u001b[0m: type object 'RijulTest1' has no attribute 'new_attribute'"
     ]
    }
   ],
   "source": [
    "RijulTest1.new_attribute"
   ]
  },
  {
   "cell_type": "markdown",
   "id": "665f819a",
   "metadata": {},
   "source": [
    "But since the nature of the relation between the class definition and the instance is object-oriented, the instance can still access the class definition:"
   ]
  },
  {
   "cell_type": "code",
   "execution_count": 90,
   "id": "46abed68",
   "metadata": {},
   "outputs": [
    {
     "data": {
      "text/plain": [
       "'This is a string, but it could be something else.'"
      ]
     },
     "execution_count": 90,
     "metadata": {},
     "output_type": "execute_result"
    }
   ],
   "source": [
    "my_instance.class_attribute"
   ]
  },
  {
   "cell_type": "markdown",
   "id": "56f30185",
   "metadata": {},
   "source": [
    "## Asana API"
   ]
  },
  {
   "cell_type": "code",
   "execution_count": null,
   "id": "0cb4091b",
   "metadata": {},
   "outputs": [],
   "source": [
    "client = asana.Client.access_token('1/1137878878147075:1c4f308eeb3a96eed280a4ca89d2aec1')\n",
    "workspaces = pd.DataFrame(client.workspaces.find_all())"
   ]
  },
  {
   "cell_type": "code",
   "execution_count": 19,
   "id": "e4069a17",
   "metadata": {},
   "outputs": [],
   "source": [
    "projects = pd.DataFrame(client.projects.find_all({'workspace':workspaces.loc[0,'gid']}))"
   ]
  },
  {
   "cell_type": "code",
   "execution_count": 20,
   "id": "bc7ad681",
   "metadata": {},
   "outputs": [
    {
     "data": {
      "text/html": [
       "<div>\n",
       "<style scoped>\n",
       "    .dataframe tbody tr th:only-of-type {\n",
       "        vertical-align: middle;\n",
       "    }\n",
       "\n",
       "    .dataframe tbody tr th {\n",
       "        vertical-align: top;\n",
       "    }\n",
       "\n",
       "    .dataframe thead th {\n",
       "        text-align: right;\n",
       "    }\n",
       "</style>\n",
       "<table border=\"1\" class=\"dataframe\">\n",
       "  <thead>\n",
       "    <tr style=\"text-align: right;\">\n",
       "      <th></th>\n",
       "      <th>gid</th>\n",
       "      <th>name</th>\n",
       "      <th>resource_type</th>\n",
       "    </tr>\n",
       "  </thead>\n",
       "  <tbody>\n",
       "    <tr>\n",
       "      <th>0</th>\n",
       "      <td>1137878513587348</td>\n",
       "      <td>Data Science</td>\n",
       "      <td>project</td>\n",
       "    </tr>\n",
       "    <tr>\n",
       "      <th>1</th>\n",
       "      <td>1199359221874309</td>\n",
       "      <td>Business Chain System</td>\n",
       "      <td>project</td>\n",
       "    </tr>\n",
       "  </tbody>\n",
       "</table>\n",
       "</div>"
      ],
      "text/plain": [
       "                gid                   name resource_type\n",
       "0  1137878513587348           Data Science       project\n",
       "1  1199359221874309  Business Chain System       project"
      ]
     },
     "execution_count": 20,
     "metadata": {},
     "output_type": "execute_result"
    }
   ],
   "source": [
    "projects"
   ]
  },
  {
   "cell_type": "code",
   "execution_count": 22,
   "id": "c500fc78",
   "metadata": {},
   "outputs": [
    {
     "data": {
      "text/html": [
       "<div>\n",
       "<style scoped>\n",
       "    .dataframe tbody tr th:only-of-type {\n",
       "        vertical-align: middle;\n",
       "    }\n",
       "\n",
       "    .dataframe tbody tr th {\n",
       "        vertical-align: top;\n",
       "    }\n",
       "\n",
       "    .dataframe thead th {\n",
       "        text-align: right;\n",
       "    }\n",
       "</style>\n",
       "<table border=\"1\" class=\"dataframe\">\n",
       "  <thead>\n",
       "    <tr style=\"text-align: right;\">\n",
       "      <th></th>\n",
       "      <th>gid</th>\n",
       "      <th>name</th>\n",
       "      <th>resource_type</th>\n",
       "    </tr>\n",
       "  </thead>\n",
       "  <tbody>\n",
       "    <tr>\n",
       "      <th>0</th>\n",
       "      <td>1137878513587348</td>\n",
       "      <td>Data Science</td>\n",
       "      <td>project</td>\n",
       "    </tr>\n",
       "  </tbody>\n",
       "</table>\n",
       "</div>"
      ],
      "text/plain": [
       "                gid          name resource_type\n",
       "0  1137878513587348  Data Science       project"
      ]
     },
     "execution_count": 22,
     "metadata": {},
     "output_type": "execute_result"
    }
   ],
   "source": [
    "# filter dataframe..\n",
    "projects[projects['name']=='Data Science']"
   ]
  },
  {
   "cell_type": "code",
   "execution_count": 26,
   "id": "822b1a6e",
   "metadata": {},
   "outputs": [
    {
     "data": {
      "text/html": [
       "<div>\n",
       "<style scoped>\n",
       "    .dataframe tbody tr th:only-of-type {\n",
       "        vertical-align: middle;\n",
       "    }\n",
       "\n",
       "    .dataframe tbody tr th {\n",
       "        vertical-align: top;\n",
       "    }\n",
       "\n",
       "    .dataframe thead th {\n",
       "        text-align: right;\n",
       "    }\n",
       "</style>\n",
       "<table border=\"1\" class=\"dataframe\">\n",
       "  <thead>\n",
       "    <tr style=\"text-align: right;\">\n",
       "      <th></th>\n",
       "      <th>gid</th>\n",
       "      <th>name</th>\n",
       "      <th>resource_type</th>\n",
       "    </tr>\n",
       "  </thead>\n",
       "  <tbody>\n",
       "    <tr>\n",
       "      <th>0</th>\n",
       "      <td>1137878513587350</td>\n",
       "      <td>Planning:</td>\n",
       "      <td>section</td>\n",
       "    </tr>\n",
       "    <tr>\n",
       "      <th>1</th>\n",
       "      <td>1137878513587360</td>\n",
       "      <td>Projects:</td>\n",
       "      <td>section</td>\n",
       "    </tr>\n",
       "    <tr>\n",
       "      <th>2</th>\n",
       "      <td>1138151720971849</td>\n",
       "      <td>Timeline</td>\n",
       "      <td>section</td>\n",
       "    </tr>\n",
       "    <tr>\n",
       "      <th>3</th>\n",
       "      <td>1137878513587361</td>\n",
       "      <td>Interview Process:</td>\n",
       "      <td>section</td>\n",
       "    </tr>\n",
       "  </tbody>\n",
       "</table>\n",
       "</div>"
      ],
      "text/plain": [
       "                gid                name resource_type\n",
       "0  1137878513587350           Planning:       section\n",
       "1  1137878513587360           Projects:       section\n",
       "2  1138151720971849            Timeline       section\n",
       "3  1137878513587361  Interview Process:       section"
      ]
     },
     "execution_count": 26,
     "metadata": {},
     "output_type": "execute_result"
    }
   ],
   "source": [
    "sbr_project_sections = sections = pd.DataFrame(client.sections.find_by_project(projects[projects['name']=='Data Science'].loc[0, 'gid']))\n",
    "sbr_project_sections"
   ]
  },
  {
   "cell_type": "code",
   "execution_count": 4,
   "id": "455075c3",
   "metadata": {},
   "outputs": [],
   "source": [
    "start_date = dt.datetime(2022, 1, 1)"
   ]
  },
  {
   "cell_type": "code",
   "execution_count": 8,
   "id": "925cc74f",
   "metadata": {},
   "outputs": [
    {
     "data": {
      "text/plain": [
       "1"
      ]
     },
     "execution_count": 8,
     "metadata": {},
     "output_type": "execute_result"
    }
   ],
   "source": [
    "start_date.month"
   ]
  },
  {
   "cell_type": "code",
   "execution_count": 16,
   "id": "53cce1e6",
   "metadata": {},
   "outputs": [
    {
     "data": {
      "text/plain": [
       "datetime.datetime(2022, 1, 8, 0, 0)"
      ]
     },
     "execution_count": 16,
     "metadata": {},
     "output_type": "execute_result"
    }
   ],
   "source": [
    "start_date + dt.timedelta(days=7)"
   ]
  },
  {
   "cell_type": "code",
   "execution_count": 58,
   "id": "26fc2ae3",
   "metadata": {},
   "outputs": [],
   "source": [
    "week_start_1 = dt.datetime(2022, 1, 1)\n",
    "week_start_2 = week_start_1 + dt.timedelta(days=7)\n",
    "week_start_3 = week_start_1 + dt.timedelta(days=14)\n",
    "week_start_4 = week_start_1 + dt.timedelta(days=21)\n",
    "week_start_5 = week_start_1 + dt.timedelta(days=28)\n",
    "\n",
    "start_dates = [week_start_1,week_start_2,week_start_3,week_start_4,week_start_5]\n",
    "\n",
    "start_dates"
   ]
  },
  {
   "cell_type": "code",
   "execution_count": 17,
   "id": "511c82ed",
   "metadata": {},
   "outputs": [],
   "source": [
    "# define PA lists \n",
    "MPA_Rijul = [\n",
    "  \"Ryan Ho\",\n",
    "  \"Samuel Nguyen\",\n",
    "  \"Achidi Kisob\",\n",
    "  \"Annika Kao\",\n",
    "  \"Gourav Kadian\",\n",
    "#  \"Suzanne Ma\",\n",
    " # \"Jasmine Nguyen\",\n",
    "  \"Jason Ho\",\n",
    "  \"Ula Sobieraj (UK)\",\n",
    "  \"Nick Assuras\",\n",
    "  \"Isfandyar Virani\",\n",
    "  \"Komal Bhuvanagiri\"]\n",
    "\n",
    "MPA_Jess = [\n",
    "  \"Angela Ye\",\n",
    "  \"Vincent Wong\",\n",
    "  \"Wendy Qian\",\n",
    "  \"Kevin Liu\",\n",
    " # \"Nicky Wu\",\n",
    "#  \"Nikita Borisov\",\n",
    "  \"Kexin Wang\",\n",
    "  \"Mo Heshmat\",\n",
    "  \"Rickey Chan\",\n",
    "  \"Ijlal Amir\",\n",
    "  \"James Scott\",\n",
    "  \"Andy Jeong\"]"
   ]
  },
  {
   "cell_type": "code",
   "execution_count": 19,
   "id": "2d2f9613",
   "metadata": {},
   "outputs": [
    {
     "data": {
      "text/plain": [
       "20"
      ]
     },
     "execution_count": 19,
     "metadata": {},
     "output_type": "execute_result"
    }
   ],
   "source": [
    "len(MPA_Rijul) + len(MPA_Jess)"
   ]
  },
  {
   "cell_type": "code",
   "execution_count": 34,
   "id": "808d819d",
   "metadata": {},
   "outputs": [],
   "source": [
    "# inter-leave the lists. im sure there's a better way to do this\n",
    "lst = []\n",
    "for i in range(max(len(MPA_Rijul), len(MPA_Jess))):\n",
    "    lst.append(MPA_Rijul[i])\n",
    "    lst.append(MPA_Jess[i])"
   ]
  },
  {
   "cell_type": "code",
   "execution_count": 50,
   "id": "82936f66",
   "metadata": {},
   "outputs": [],
   "source": [
    "import pandas as pd\n",
    "\n",
    "df = pd.DataFrame(columns=['Week 1', 'Week 2'], \n",
    "                 index = lst)"
   ]
  },
  {
   "cell_type": "code",
   "execution_count": 53,
   "id": "b9daa055",
   "metadata": {},
   "outputs": [
    {
     "data": {
      "text/html": [
       "<div>\n",
       "<style scoped>\n",
       "    .dataframe tbody tr th:only-of-type {\n",
       "        vertical-align: middle;\n",
       "    }\n",
       "\n",
       "    .dataframe tbody tr th {\n",
       "        vertical-align: top;\n",
       "    }\n",
       "\n",
       "    .dataframe thead th {\n",
       "        text-align: right;\n",
       "    }\n",
       "</style>\n",
       "<table border=\"1\" class=\"dataframe\">\n",
       "  <thead>\n",
       "    <tr style=\"text-align: right;\">\n",
       "      <th></th>\n",
       "      <th>Week 1</th>\n",
       "      <th>Week 2</th>\n",
       "    </tr>\n",
       "  </thead>\n",
       "  <tbody>\n",
       "    <tr>\n",
       "      <th>Ryan Ho</th>\n",
       "      <td>Reserved for Spencer</td>\n",
       "      <td>Reserved for Spencer Week 2</td>\n",
       "    </tr>\n",
       "    <tr>\n",
       "      <th>Angela Ye</th>\n",
       "      <td>NaN</td>\n",
       "      <td>NaN</td>\n",
       "    </tr>\n",
       "    <tr>\n",
       "      <th>Samuel Nguyen</th>\n",
       "      <td>Reserved for Spencer</td>\n",
       "      <td>Reserved for Spencer Week 2</td>\n",
       "    </tr>\n",
       "    <tr>\n",
       "      <th>Vincent Wong</th>\n",
       "      <td>NaN</td>\n",
       "      <td>NaN</td>\n",
       "    </tr>\n",
       "    <tr>\n",
       "      <th>Achidi Kisob</th>\n",
       "      <td>Reserved for Spencer</td>\n",
       "      <td>Reserved for Spencer Week 2</td>\n",
       "    </tr>\n",
       "    <tr>\n",
       "      <th>Wendy Qian</th>\n",
       "      <td>NaN</td>\n",
       "      <td>NaN</td>\n",
       "    </tr>\n",
       "    <tr>\n",
       "      <th>Annika Kao</th>\n",
       "      <td>Reserved for Spencer</td>\n",
       "      <td>Reserved for Spencer Week 2</td>\n",
       "    </tr>\n",
       "    <tr>\n",
       "      <th>Kevin Liu</th>\n",
       "      <td>NaN</td>\n",
       "      <td>NaN</td>\n",
       "    </tr>\n",
       "    <tr>\n",
       "      <th>Gourav Kadian</th>\n",
       "      <td>Reserved for Spencer</td>\n",
       "      <td>Reserved for Spencer Week 2</td>\n",
       "    </tr>\n",
       "    <tr>\n",
       "      <th>Kexin Wang</th>\n",
       "      <td>NaN</td>\n",
       "      <td>NaN</td>\n",
       "    </tr>\n",
       "    <tr>\n",
       "      <th>Jason Ho</th>\n",
       "      <td>Reserved for Spencer</td>\n",
       "      <td>Reserved for Spencer Week 2</td>\n",
       "    </tr>\n",
       "    <tr>\n",
       "      <th>Mo Heshmat</th>\n",
       "      <td>NaN</td>\n",
       "      <td>NaN</td>\n",
       "    </tr>\n",
       "    <tr>\n",
       "      <th>Ula Sobieraj (UK)</th>\n",
       "      <td>Reserved for Spencer</td>\n",
       "      <td>Reserved for Spencer Week 2</td>\n",
       "    </tr>\n",
       "    <tr>\n",
       "      <th>Rickey Chan</th>\n",
       "      <td>NaN</td>\n",
       "      <td>NaN</td>\n",
       "    </tr>\n",
       "    <tr>\n",
       "      <th>Nick Assuras</th>\n",
       "      <td>Reserved for Spencer</td>\n",
       "      <td>Reserved for Spencer Week 2</td>\n",
       "    </tr>\n",
       "    <tr>\n",
       "      <th>Ijlal Amir</th>\n",
       "      <td>NaN</td>\n",
       "      <td>NaN</td>\n",
       "    </tr>\n",
       "    <tr>\n",
       "      <th>Isfandyar Virani</th>\n",
       "      <td>Reserved for Spencer</td>\n",
       "      <td>Reserved for Spencer Week 2</td>\n",
       "    </tr>\n",
       "    <tr>\n",
       "      <th>James Scott</th>\n",
       "      <td>NaN</td>\n",
       "      <td>NaN</td>\n",
       "    </tr>\n",
       "    <tr>\n",
       "      <th>Komal Bhuvanagiri</th>\n",
       "      <td>Reserved for Spencer</td>\n",
       "      <td>Reserved for Spencer Week 2</td>\n",
       "    </tr>\n",
       "    <tr>\n",
       "      <th>Andy Jeong</th>\n",
       "      <td>NaN</td>\n",
       "      <td>NaN</td>\n",
       "    </tr>\n",
       "  </tbody>\n",
       "</table>\n",
       "</div>"
      ],
      "text/plain": [
       "                                 Week 1                       Week 2\n",
       "Ryan Ho            Reserved for Spencer  Reserved for Spencer Week 2\n",
       "Angela Ye                           NaN                          NaN\n",
       "Samuel Nguyen      Reserved for Spencer  Reserved for Spencer Week 2\n",
       "Vincent Wong                        NaN                          NaN\n",
       "Achidi Kisob       Reserved for Spencer  Reserved for Spencer Week 2\n",
       "Wendy Qian                          NaN                          NaN\n",
       "Annika Kao         Reserved for Spencer  Reserved for Spencer Week 2\n",
       "Kevin Liu                           NaN                          NaN\n",
       "Gourav Kadian      Reserved for Spencer  Reserved for Spencer Week 2\n",
       "Kexin Wang                          NaN                          NaN\n",
       "Jason Ho           Reserved for Spencer  Reserved for Spencer Week 2\n",
       "Mo Heshmat                          NaN                          NaN\n",
       "Ula Sobieraj (UK)  Reserved for Spencer  Reserved for Spencer Week 2\n",
       "Rickey Chan                         NaN                          NaN\n",
       "Nick Assuras       Reserved for Spencer  Reserved for Spencer Week 2\n",
       "Ijlal Amir                          NaN                          NaN\n",
       "Isfandyar Virani   Reserved for Spencer  Reserved for Spencer Week 2\n",
       "James Scott                         NaN                          NaN\n",
       "Komal Bhuvanagiri  Reserved for Spencer  Reserved for Spencer Week 2\n",
       "Andy Jeong                          NaN                          NaN"
      ]
     },
     "execution_count": 53,
     "metadata": {},
     "output_type": "execute_result"
    }
   ],
   "source": [
    "df"
   ]
  },
  {
   "cell_type": "code",
   "execution_count": 56,
   "id": "933ead71",
   "metadata": {},
   "outputs": [
    {
     "data": {
      "text/html": [
       "<div>\n",
       "<style scoped>\n",
       "    .dataframe tbody tr th:only-of-type {\n",
       "        vertical-align: middle;\n",
       "    }\n",
       "\n",
       "    .dataframe tbody tr th {\n",
       "        vertical-align: top;\n",
       "    }\n",
       "\n",
       "    .dataframe thead th {\n",
       "        text-align: right;\n",
       "    }\n",
       "</style>\n",
       "<table border=\"1\" class=\"dataframe\">\n",
       "  <thead>\n",
       "    <tr style=\"text-align: right;\">\n",
       "      <th></th>\n",
       "      <th>Week 1</th>\n",
       "      <th>Week 2</th>\n",
       "    </tr>\n",
       "  </thead>\n",
       "  <tbody>\n",
       "    <tr>\n",
       "      <th>Ryan Ho</th>\n",
       "      <td>Reserved for Spencer</td>\n",
       "      <td>Reserved for Spencer Week 2</td>\n",
       "    </tr>\n",
       "    <tr>\n",
       "      <th>Angela Ye</th>\n",
       "      <td>Reserved for Lu</td>\n",
       "      <td>Reserved for Lu Week 2</td>\n",
       "    </tr>\n",
       "    <tr>\n",
       "      <th>Samuel Nguyen</th>\n",
       "      <td>Reserved for Spencer</td>\n",
       "      <td>Reserved for Spencer Week 2</td>\n",
       "    </tr>\n",
       "    <tr>\n",
       "      <th>Vincent Wong</th>\n",
       "      <td>Reserved for Lu</td>\n",
       "      <td>Reserved for Lu Week 2</td>\n",
       "    </tr>\n",
       "    <tr>\n",
       "      <th>Achidi Kisob</th>\n",
       "      <td>Reserved for Spencer</td>\n",
       "      <td>Reserved for Spencer Week 2</td>\n",
       "    </tr>\n",
       "    <tr>\n",
       "      <th>Wendy Qian</th>\n",
       "      <td>Reserved for Lu</td>\n",
       "      <td>Reserved for Lu Week 2</td>\n",
       "    </tr>\n",
       "    <tr>\n",
       "      <th>Annika Kao</th>\n",
       "      <td>Reserved for Spencer</td>\n",
       "      <td>Reserved for Spencer Week 2</td>\n",
       "    </tr>\n",
       "    <tr>\n",
       "      <th>Kevin Liu</th>\n",
       "      <td>Reserved for Lu</td>\n",
       "      <td>Reserved for Lu Week 2</td>\n",
       "    </tr>\n",
       "    <tr>\n",
       "      <th>Gourav Kadian</th>\n",
       "      <td>Reserved for Spencer</td>\n",
       "      <td>Reserved for Spencer Week 2</td>\n",
       "    </tr>\n",
       "    <tr>\n",
       "      <th>Kexin Wang</th>\n",
       "      <td>Reserved for Lu</td>\n",
       "      <td>Reserved for Lu Week 2</td>\n",
       "    </tr>\n",
       "    <tr>\n",
       "      <th>Jason Ho</th>\n",
       "      <td>Reserved for Spencer</td>\n",
       "      <td>Reserved for Spencer Week 2</td>\n",
       "    </tr>\n",
       "    <tr>\n",
       "      <th>Mo Heshmat</th>\n",
       "      <td>Reserved for Lu</td>\n",
       "      <td>Reserved for Lu Week 2</td>\n",
       "    </tr>\n",
       "    <tr>\n",
       "      <th>Ula Sobieraj (UK)</th>\n",
       "      <td>Reserved for Spencer</td>\n",
       "      <td>Reserved for Spencer Week 2</td>\n",
       "    </tr>\n",
       "    <tr>\n",
       "      <th>Rickey Chan</th>\n",
       "      <td>Reserved for Lu</td>\n",
       "      <td>Reserved for Lu Week 2</td>\n",
       "    </tr>\n",
       "    <tr>\n",
       "      <th>Nick Assuras</th>\n",
       "      <td>Reserved for Spencer</td>\n",
       "      <td>Reserved for Spencer Week 2</td>\n",
       "    </tr>\n",
       "    <tr>\n",
       "      <th>Ijlal Amir</th>\n",
       "      <td>Reserved for Lu</td>\n",
       "      <td>Reserved for Lu Week 2</td>\n",
       "    </tr>\n",
       "    <tr>\n",
       "      <th>Isfandyar Virani</th>\n",
       "      <td>Reserved for Spencer</td>\n",
       "      <td>Reserved for Spencer Week 2</td>\n",
       "    </tr>\n",
       "    <tr>\n",
       "      <th>James Scott</th>\n",
       "      <td>Reserved for Lu</td>\n",
       "      <td>Reserved for Lu Week 2</td>\n",
       "    </tr>\n",
       "    <tr>\n",
       "      <th>Komal Bhuvanagiri</th>\n",
       "      <td>Reserved for Spencer</td>\n",
       "      <td>Reserved for Spencer Week 2</td>\n",
       "    </tr>\n",
       "    <tr>\n",
       "      <th>Andy Jeong</th>\n",
       "      <td>Reserved for Lu</td>\n",
       "      <td>Reserved for Lu Week 2</td>\n",
       "    </tr>\n",
       "  </tbody>\n",
       "</table>\n",
       "</div>"
      ],
      "text/plain": [
       "                                 Week 1                       Week 2\n",
       "Ryan Ho            Reserved for Spencer  Reserved for Spencer Week 2\n",
       "Angela Ye               Reserved for Lu       Reserved for Lu Week 2\n",
       "Samuel Nguyen      Reserved for Spencer  Reserved for Spencer Week 2\n",
       "Vincent Wong            Reserved for Lu       Reserved for Lu Week 2\n",
       "Achidi Kisob       Reserved for Spencer  Reserved for Spencer Week 2\n",
       "Wendy Qian              Reserved for Lu       Reserved for Lu Week 2\n",
       "Annika Kao         Reserved for Spencer  Reserved for Spencer Week 2\n",
       "Kevin Liu               Reserved for Lu       Reserved for Lu Week 2\n",
       "Gourav Kadian      Reserved for Spencer  Reserved for Spencer Week 2\n",
       "Kexin Wang              Reserved for Lu       Reserved for Lu Week 2\n",
       "Jason Ho           Reserved for Spencer  Reserved for Spencer Week 2\n",
       "Mo Heshmat              Reserved for Lu       Reserved for Lu Week 2\n",
       "Ula Sobieraj (UK)  Reserved for Spencer  Reserved for Spencer Week 2\n",
       "Rickey Chan             Reserved for Lu       Reserved for Lu Week 2\n",
       "Nick Assuras       Reserved for Spencer  Reserved for Spencer Week 2\n",
       "Ijlal Amir              Reserved for Lu       Reserved for Lu Week 2\n",
       "Isfandyar Virani   Reserved for Spencer  Reserved for Spencer Week 2\n",
       "James Scott             Reserved for Lu       Reserved for Lu Week 2\n",
       "Komal Bhuvanagiri  Reserved for Spencer  Reserved for Spencer Week 2\n",
       "Andy Jeong              Reserved for Lu       Reserved for Lu Week 2"
      ]
     },
     "execution_count": 56,
     "metadata": {},
     "output_type": "execute_result"
    }
   ],
   "source": [
    "for idx, i in enumerate(df.iterrows()):\n",
    "    if idx%2==0:\n",
    "        #print('evens for spencer')\n",
    "        df.loc[i[0], 'Week 1'] = 'Reserved for Spencer'\n",
    "        df.loc[i[0], 'Week 2'] = 'Reserved for Spencer Week 2'\n",
    "    else:\n",
    "        #print('odds for lu?')\n",
    "        df.loc[i[0], 'Week 1'] = 'Reserved for Lu'\n",
    "        df.loc[i[0], 'Week 2'] = 'Reserved for Lu Week 2'\n",
    "        \n",
    "df"
   ]
  },
  {
   "cell_type": "markdown",
   "id": "06552f67",
   "metadata": {},
   "source": [
    "# R Code"
   ]
  },
  {
   "cell_type": "code",
   "execution_count": null,
   "id": "19283c8e",
   "metadata": {},
   "outputs": [],
   "source": [
    "# line 83 -- how many PA's are available (#'open' tasks to be created?)\n",
    "available_PAs = len(MPA_Rijul) + len(MPA_Jess)\n",
    "task_names = pd.Dataframe(columns=['Week 1', 'Week 2'])\n",
    "\n",
    "\n",
    "\n",
    "for i in available_PAs:\n",
    "# even or odd? \n",
    "    if i % 2 == 0: \n",
    "        am_lead = 'Spencer'\n",
    "    else:\n",
    "\tam_lead = 'Lu'\n",
    "    assignee = available_PAs.pop(0) \n",
    "# pop the next available PA? could interweave the PA list to fit this idea.\n",
    "# this iteration method is dependent on the numbers of PAs available being more for Rijul than for Jess(?)\n",
    "# append week 1 and week 2 tasks for the appropriate PA and AM team lead.\n",
    "    week1 = f'- Open for {team_lead}'\n",
    "    weeek2 = f'- Open for {team_lead} - Week 2'\n",
    "    task_names.loc[i, 'Week 1'] = week1\n",
    "    task_names.loc[i, 'Week 2'] = week2\n",
    "\n",
    "# Line 97 -- post-quarter reports? \n",
    "# if there are 3 days of the week in month x and only 2 in month y, month x takes precedence. \n",
    "# take start date, add 2 days (if it was monday, this would make it wednesday -- if it was tuesday, this would make it thursday)\n",
    "\n",
    "# dt.datetime.month(start_date)\n",
    "if dt.month(start_date)(?) in [1,4,7,10]:\n",
    "    task_names = 'OPEN'\n",
    "\n",
    "# Line 100\n",
    "# if the week is a start week.. paste the tuples of PA's and task values (either Lu or Spencer availabity) as a column in the dataframe, task_names?\n",
    "\n",
    "# Line 107\n",
    "#getting subtasks from a sample SBR task\n",
    "sbr_subtasks <- asana::asn_tasks_subtasks(project= project_id, task = 1201553895976477) \n",
    "# does this generate the task on asana itself, or simply hold the json object in our memory?\n",
    "k=1\n",
    "for (k in 1:n_tasks ) {\n",
    "create_task <- asana::asn_tasks_create(projects=project_id, \n",
    "                                       name= task_names[k,1],\n",
    "                                       start_on = start_date,\n",
    "                                       due_on = end_date\n",
    "                                       )\n",
    "# this looping to index back into dataframe would be better accomplished by simply generating some tuples -- PA Name, AM Team Lead?\n",
    "\n",
    "#Step 2: Adding Subtasks\n",
    "task_id<-create_task$content$data[[1]]\n",
    "\n",
    "\n",
    "# line 124 -- seemingly incomplete loop? we're looping to create a due date and a chat date, but not using it when we call\n",
    "asana.asn_tasks_add_substask(task=task_id, name=sbr_subtasks$name[i])\n",
    "\n",
    "# line 133 -- add additional subtasks to the task for each available PA\n",
    "asn_tasks_add_subtask(task = task_id, name = \"PA > Add Mapping File to Google Drive\" , due_on = start_date)\n",
    "asn_tasks_add_subtask(task = task_id, name = \"AM > PPT Online Link\" , due_on = start_date)\n",
    "asn_tasks_add_subtask(task = task_id, name = \"PA > Data Pull\" , due_on = start_date)\n",
    "asn_tasks_add_subtask(task = task_id, name = \"PA > Initiate Slack Chat\" , due_on = initiate_chat_date)\n",
    "asn_tasks_add_subtask(task = task_id, name = \"AM > Confirm SBR with Client\", due_on = due_date)"
   ]
  },
  {
   "cell_type": "code",
   "execution_count": null,
   "id": "5a7e1a13",
   "metadata": {},
   "outputs": [],
   "source": [
    "# load modules\n",
    "import sys\n",
    "import datetime as dt\n",
    "import numpy as np\n",
    "import pandas as pd\n",
    "import asana\n",
    "import SQL CONNECTOR (yet to be found)\n",
    "\n",
    "# line 19 get username (sysname)\n",
    "sysname = sys.info()[7] \n",
    "{LOAD AUTHENTICATION TOKEN INTO GLOBAL NAMESPACE}\n",
    "\n",
    "\n",
    "# line 22 identifying json objects\n",
    "all_workspaces = asana.asn_workspaces_find_all()\n",
    "all_projects = asana.asn_projects_find_all()\n",
    "\n",
    "project_id = all_projects['name']['SBR Plan'][1](? the project_id field)\n",
    "all_sections = asana.asn_sections_find_by_project(project=project_id)\n",
    "\n",
    "# line 29 - find Open section where tasks need to be created\n",
    "section_id = all_sections['all_sections']['Open'][1] (? the 'Open' section {section_id})\n",
    "# generate week datetime objects (mondays)\n",
    "\n",
    "# line 36 set start date and end date\n",
    "start_date  = week_start_2\n",
    "end_date = week_start_2 + dt.datetime...4 days"
   ]
  }
 ],
 "metadata": {
  "kernelspec": {
   "display_name": "Python 3 (ipykernel)",
   "language": "python",
   "name": "python3"
  },
  "language_info": {
   "codemirror_mode": {
    "name": "ipython",
    "version": 3
   },
   "file_extension": ".py",
   "mimetype": "text/x-python",
   "name": "python",
   "nbconvert_exporter": "python",
   "pygments_lexer": "ipython3",
   "version": "3.9.12"
  }
 },
 "nbformat": 4,
 "nbformat_minor": 5
}
