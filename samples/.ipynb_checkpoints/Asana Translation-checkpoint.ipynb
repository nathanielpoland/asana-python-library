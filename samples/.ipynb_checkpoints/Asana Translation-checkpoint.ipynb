{
 "cells": [
  {
   "cell_type": "code",
   "execution_count": 1,
   "id": "aacb1f76",
   "metadata": {
    "scrolled": true
   },
   "outputs": [
    {
     "name": "stdout",
     "output_type": "stream",
     "text": [
      "hello world\n"
     ]
    }
   ],
   "source": [
    "print('hello world')"
   ]
  },
  {
   "cell_type": "markdown",
   "id": "c11382c5",
   "metadata": {},
   "source": [
    "## Importing Packages"
   ]
  },
  {
   "cell_type": "code",
   "execution_count": 2,
   "id": "697e5d55",
   "metadata": {},
   "outputs": [],
   "source": [
    "import datetime as dt\n",
    "import asana\n",
    "import pandas as pd\n",
    "import json"
   ]
  },
  {
   "cell_type": "markdown",
   "id": "2824f0a6",
   "metadata": {},
   "source": [
    "## Python namespace and scope primer"
   ]
  },
  {
   "cell_type": "code",
   "execution_count": null,
   "id": "ab182392",
   "metadata": {},
   "outputs": [],
   "source": [
    "# vars([object]) -> dictionary\n",
    "\n",
    "# Without arguments, equivalent to locals().\n",
    "# With an argument, equivalent to object.__dict__."
   ]
  },
  {
   "cell_type": "code",
   "execution_count": null,
   "id": "c4465da8",
   "metadata": {},
   "outputs": [],
   "source": [
    "vars()['__name__'] # indexing into a dictionary's keys using, in this case, a string"
   ]
  },
  {
   "cell_type": "code",
   "execution_count": 234,
   "id": "68ef4090",
   "metadata": {},
   "outputs": [
    {
     "data": {
      "text/plain": [
       "'__main__'"
      ]
     },
     "execution_count": 234,
     "metadata": {},
     "output_type": "execute_result"
    }
   ],
   "source": [
    "__name__ # this variable name is assigned, but should NOT be tampered with."
   ]
  },
  {
   "cell_type": "markdown",
   "id": "b289b773",
   "metadata": {},
   "source": [
    "vars() lists all variables in the global namespace. Note that the \"hidden\" variables (which are not protected) are written with double underscores (dunders). This allows for conditional logic in scripts based on the namespace which calls the function;\n",
    "\n",
    "if \\_\\_name__ == '\\_\\_main__':\n",
    "\n",
    "    #do stuff\n",
    "    \n",
    "    pass\n",
    "    \n",
    "When we run the lines below in a jupyter notebook or Python module (.py file), we are interacting with the top-level namespace. \n",
    "\n",
    "Using this logic when we want runtime actions allows us to both import a script, or to use it as our main script -- the lines which follow the logic check will only be executed if it is the file we have open at the time, but Not if we import the script into our namespace."
   ]
  },
  {
   "cell_type": "code",
   "execution_count": 4,
   "id": "de27d841",
   "metadata": {},
   "outputs": [
    {
     "name": "stdout",
     "output_type": "stream",
     "text": [
      "hello world\n"
     ]
    }
   ],
   "source": [
    "if __name__ == '__main__':\n",
    "    #do stuff\n",
    "    print('hello world')\n",
    "    pass\n"
   ]
  },
  {
   "cell_type": "markdown",
   "id": "83c9ca14",
   "metadata": {},
   "source": [
    "These values are in a dictionary structure..."
   ]
  },
  {
   "cell_type": "code",
   "execution_count": 5,
   "id": "1f041543",
   "metadata": {},
   "outputs": [
    {
     "data": {
      "text/plain": [
       "'__main__'"
      ]
     },
     "execution_count": 5,
     "metadata": {},
     "output_type": "execute_result"
    }
   ],
   "source": [
    "vars()['__name__']"
   ]
  },
  {
   "cell_type": "code",
   "execution_count": 6,
   "id": "5e3751a7",
   "metadata": {},
   "outputs": [
    {
     "data": {
      "text/plain": [
       "'asana'"
      ]
     },
     "execution_count": 6,
     "metadata": {},
     "output_type": "execute_result"
    }
   ],
   "source": [
    "vars(asana)['__name__'] # list all variables in the asana package namespace. "
   ]
  },
  {
   "cell_type": "code",
   "execution_count": 7,
   "id": "c1f0fbde",
   "metadata": {
    "scrolled": true
   },
   "outputs": [
    {
     "data": {
      "text/plain": [
       "['Asana Translation.ipynb', 'asana_lib.ipynb']"
      ]
     },
     "execution_count": 7,
     "metadata": {},
     "output_type": "execute_result"
    }
   ],
   "source": [
    "import glob\n",
    "glob.glob('*') # glob package is one way for us to access filepaths, list file names, etc."
   ]
  },
  {
   "cell_type": "markdown",
   "id": "885fa257",
   "metadata": {},
   "source": [
    "# Constructing a matrix in base python"
   ]
  },
  {
   "cell_type": "code",
   "execution_count": 171,
   "id": "8f8f2a45",
   "metadata": {
    "scrolled": true
   },
   "outputs": [
    {
     "data": {
      "text/plain": [
       "<generator object <genexpr> at 0x000002B900364C80>"
      ]
     },
     "execution_count": 171,
     "metadata": {},
     "output_type": "execute_result"
    }
   ],
   "source": [
    "lst = [1,2,3,4,5,6,7]\n",
    "lst2 = ['a','b','c','d','e','f', 'g']\n",
    "(x for x in lst)"
   ]
  },
  {
   "cell_type": "code",
   "execution_count": 172,
   "id": "1d629462",
   "metadata": {},
   "outputs": [
    {
     "data": {
      "text/plain": [
       "[1, 2, 3, 4, 5, 6, 7]"
      ]
     },
     "execution_count": 172,
     "metadata": {},
     "output_type": "execute_result"
    }
   ],
   "source": [
    "list(x for x in lst)"
   ]
  },
  {
   "cell_type": "code",
   "execution_count": 173,
   "id": "142cfeef",
   "metadata": {},
   "outputs": [
    {
     "data": {
      "text/plain": [
       "[1, 2, 3, 4, 5, 6, 7]"
      ]
     },
     "execution_count": 173,
     "metadata": {},
     "output_type": "execute_result"
    }
   ],
   "source": [
    "[x for x in lst]"
   ]
  },
  {
   "cell_type": "code",
   "execution_count": 174,
   "id": "709e5285",
   "metadata": {},
   "outputs": [
    {
     "data": {
      "text/plain": [
       "[1, 2, 3, 4, 5, 6, 7, 'a', 'b', 'c', 'd', 'e', 'f', 'g']"
      ]
     },
     "execution_count": 174,
     "metadata": {},
     "output_type": "execute_result"
    }
   ],
   "source": [
    "[x for x in lst+lst2]"
   ]
  },
  {
   "cell_type": "code",
   "execution_count": 214,
   "id": "17d57f73",
   "metadata": {},
   "outputs": [
    {
     "data": {
      "text/plain": [
       "'g'"
      ]
     },
     "execution_count": 214,
     "metadata": {},
     "output_type": "execute_result"
    }
   ],
   "source": [
    "lst2[len(lst2)-1] # this might trip you up at first. the last element is at len(lst) - 1"
   ]
  },
  {
   "cell_type": "code",
   "execution_count": 215,
   "id": "2c74916d",
   "metadata": {},
   "outputs": [
    {
     "data": {
      "text/plain": [
       "[1, 2, 3, 4, 5, 6, 7]"
      ]
     },
     "execution_count": 215,
     "metadata": {},
     "output_type": "execute_result"
    }
   ],
   "source": [
    "lst[:len(lst)] # 0-index-slicing; start, stop, step"
   ]
  },
  {
   "cell_type": "code",
   "execution_count": 201,
   "id": "fc6b03f6",
   "metadata": {},
   "outputs": [
    {
     "data": {
      "text/plain": [
       "[7, 6, 5, 4, 3, 2, 1]"
      ]
     },
     "execution_count": 201,
     "metadata": {},
     "output_type": "execute_result"
    }
   ],
   "source": [
    "lst[::-1] # axiom to reverse a list"
   ]
  },
  {
   "cell_type": "code",
   "execution_count": 217,
   "id": "c38d515c",
   "metadata": {},
   "outputs": [
    {
     "data": {
      "text/plain": [
       "['a', 'b', 'c', 'd', 'e', 'f', 'g']"
      ]
     },
     "execution_count": 217,
     "metadata": {},
     "output_type": "execute_result"
    }
   ],
   "source": [
    "[lst2[i-1] for i in lst]  # else indexing error...\n",
    "# this is using the actual elements from lst, which go 1-7. \n",
    "# 7 is the 8th element of lst2 and would throw an index error"
   ]
  },
  {
   "cell_type": "code",
   "execution_count": 200,
   "id": "7d27fa8f",
   "metadata": {
    "scrolled": false
   },
   "outputs": [
    {
     "data": {
      "text/plain": [
       "['a', 'b', 'c', 'd', 'e', 'f', 'g']"
      ]
     },
     "execution_count": 200,
     "metadata": {},
     "output_type": "execute_result"
    }
   ],
   "source": [
    "[lst2[i] for i in range(7)] # the range indexes \"up to but not including\" 7. "
   ]
  },
  {
   "cell_type": "code",
   "execution_count": 223,
   "id": "93c4a4f1",
   "metadata": {},
   "outputs": [
    {
     "data": {
      "text/plain": [
       "[['a', 1], ['b', 2], ['c', 3], ['d', 4], ['e', 5], ['f', 6], ['g', 7]]"
      ]
     },
     "execution_count": 223,
     "metadata": {},
     "output_type": "execute_result"
    }
   ],
   "source": [
    "[[lst2[i], lst[i]] for i in range(7)] # here we're returning a list with 2 elements. again, range() operates strangely."
   ]
  },
  {
   "cell_type": "code",
   "execution_count": 229,
   "id": "d70bf33c",
   "metadata": {},
   "outputs": [
    {
     "data": {
      "text/plain": [
       "1"
      ]
     },
     "execution_count": 229,
     "metadata": {},
     "output_type": "execute_result"
    }
   ],
   "source": [
    "lst[0]"
   ]
  },
  {
   "cell_type": "code",
   "execution_count": 228,
   "id": "3b8e09d4",
   "metadata": {},
   "outputs": [
    {
     "data": {
      "text/plain": [
       "['a', 'b']"
      ]
     },
     "execution_count": 228,
     "metadata": {},
     "output_type": "execute_result"
    }
   ],
   "source": [
    "lst2[:2] # slicing operates as [start:stop:step] where a singular value retrieves the element at that 0-indexed position\n",
    "            # where a step value of -1 indicates taking 1 step backwards, but 0 and 1 both indicate taking 1 step forwards."
   ]
  },
  {
   "cell_type": "code",
   "execution_count": 227,
   "id": "6507eec7",
   "metadata": {},
   "outputs": [
    {
     "data": {
      "text/plain": [
       "['g', 'f', 'e', 'd', 'c', 'b', 'a']"
      ]
     },
     "execution_count": 227,
     "metadata": {},
     "output_type": "execute_result"
    }
   ],
   "source": [
    "lst2[::-1]"
   ]
  },
  {
   "cell_type": "code",
   "execution_count": 226,
   "id": "289b2978",
   "metadata": {},
   "outputs": [
    {
     "data": {
      "text/plain": [
       "['g', 'f', 'e', 'd']"
      ]
     },
     "execution_count": 226,
     "metadata": {},
     "output_type": "execute_result"
    }
   ],
   "source": [
    "lst2[:2:-1] # since the stop value is positive index[2], \n",
    "            #the third element of the list, we reach up to but not including element 2 when reverse indexing."
   ]
  },
  {
   "cell_type": "code",
   "execution_count": 203,
   "id": "76cdadec",
   "metadata": {},
   "outputs": [
    {
     "data": {
      "text/plain": [
       "[1, 4, 7]"
      ]
     },
     "execution_count": 203,
     "metadata": {},
     "output_type": "execute_result"
    }
   ],
   "source": [
    "lst[::3] # starts at 0, step by 3"
   ]
  },
  {
   "cell_type": "code",
   "execution_count": 207,
   "id": "6d528853",
   "metadata": {},
   "outputs": [
    {
     "data": {
      "text/plain": [
       "[7, 6]"
      ]
     },
     "execution_count": 207,
     "metadata": {},
     "output_type": "execute_result"
    }
   ],
   "source": [
    "lst[:4:-1] # reverse indexing can get tricky. since -0 makes no sense, -1 is actually at index(len(lst))"
   ]
  },
  {
   "cell_type": "code",
   "execution_count": 190,
   "id": "79cbeed6",
   "metadata": {
    "scrolled": false
   },
   "outputs": [
    {
     "data": {
      "text/plain": [
       "[['a', 'b', 'c', 'd', 'e', 'f', 'g'],\n",
       " ['a', 'b', 'c', 'd', 'e', 'f', 'g'],\n",
       " ['a', 'b', 'c', 'd', 'e', 'f', 'g'],\n",
       " ['a', 'b', 'c', 'd', 'e', 'f', 'g'],\n",
       " ['a', 'b', 'c', 'd', 'e', 'f', 'g'],\n",
       " ['a', 'b', 'c', 'd', 'e', 'f', 'g'],\n",
       " ['a', 'b', 'c', 'd', 'e', 'f', 'g']]"
      ]
     },
     "execution_count": 190,
     "metadata": {},
     "output_type": "execute_result"
    }
   ],
   "source": [
    "lst3 = [[x for x in lst2] for y in lst] \n",
    "# the inner loop is what is being returned, one element for each element of lst2... \n",
    "# this is somewhat counterintuitive at first.\n",
    "lst3 \n",
    "\n"
   ]
  },
  {
   "cell_type": "code",
   "execution_count": 146,
   "id": "a0b1ec62",
   "metadata": {},
   "outputs": [
    {
     "data": {
      "text/plain": [
       "'g'"
      ]
     },
     "execution_count": 146,
     "metadata": {},
     "output_type": "execute_result"
    }
   ],
   "source": [
    "lst3[6][6] # indexing starts at 0\n",
    "#lst3[0][0]"
   ]
  },
  {
   "cell_type": "code",
   "execution_count": 144,
   "id": "66ade49e",
   "metadata": {
    "scrolled": true
   },
   "outputs": [
    {
     "data": {
      "text/plain": [
       "[(1, ['a', 'b', 'c', 'd', 'e', 'f', 'g']),\n",
       " (2, ['a', 'b', 'c', 'd', 'e', 'f', 'g']),\n",
       " (3, ['a', 'b', 'c', 'd', 'e', 'f', 'g']),\n",
       " (4, ['a', 'b', 'c', 'd', 'e', 'f', 'g']),\n",
       " (5, ['a', 'b', 'c', 'd', 'e', 'f', 'g']),\n",
       " (6, ['a', 'b', 'c', 'd', 'e', 'f', 'g']),\n",
       " (7, ['a', 'b', 'c', 'd', 'e', 'f', 'g'])]"
      ]
     },
     "execution_count": 144,
     "metadata": {},
     "output_type": "execute_result"
    }
   ],
   "source": [
    "[(a, b) for a, b in zip(lst, lst3)]\n",
    "# This comprehension returns a list of tuples; \n",
    "# The first element of each tuple is an integer (from lst), and the second element of the tuple is a list (from lst3)."
   ]
  },
  {
   "cell_type": "code",
   "execution_count": 145,
   "id": "7e45b499",
   "metadata": {},
   "outputs": [
    {
     "data": {
      "text/plain": [
       "[(1, '1a'), (2, '2b'), (3, '3c'), (4, '4d'), (5, '5e'), (6, '6f'), (7, '7g')]"
      ]
     },
     "execution_count": 145,
     "metadata": {},
     "output_type": "execute_result"
    }
   ],
   "source": [
    "[(a, b) for a, b in zip(lst, lst4)]\n",
    "# This comprehension also returns a list of tuples; \n",
    "# The first element of each tuple is an integer, and the second element of the tuple is a string."
   ]
  },
  {
   "cell_type": "markdown",
   "id": "9d5539ca",
   "metadata": {},
   "source": [
    "concatenation operator works for strings. str() constructor converts the type. order of variables in the comprehension matters for tuple unpacking."
   ]
  },
  {
   "cell_type": "code",
   "execution_count": 149,
   "id": "5dce8848",
   "metadata": {},
   "outputs": [],
   "source": [
    "def test(x):\n",
    "    return x ** 2"
   ]
  },
  {
   "cell_type": "code",
   "execution_count": 163,
   "id": "bd4c5c90",
   "metadata": {},
   "outputs": [
    {
     "data": {
      "text/plain": [
       "[[1, 4, 9, 16, 25, 36, 49],\n",
       " [1, 4, 9, 16, 25, 36, 49],\n",
       " [1, 4, 9, 16, 25, 36, 49],\n",
       " [1, 4, 9, 16, 25, 36, 49],\n",
       " [1, 4, 9, 16, 25, 36, 49],\n",
       " [1, 4, 9, 16, 25, 36, 49],\n",
       " [1, 4, 9, 16, 25, 36, 49]]"
      ]
     },
     "execution_count": 163,
     "metadata": {},
     "output_type": "execute_result"
    }
   ],
   "source": [
    "[[test(x) for x in lst] for y in lst]\n"
   ]
  },
  {
   "cell_type": "markdown",
   "id": "9881576c",
   "metadata": {},
   "source": [
    "## Generators"
   ]
  },
  {
   "cell_type": "markdown",
   "id": "ea47b64e",
   "metadata": {},
   "source": [
    "List comprehension capitalize on generators. Python makes use of 'generator' objects in really a lot of places. These behave a bit strangely (at first), but hold tremendous potential:"
   ]
  },
  {
   "cell_type": "code",
   "execution_count": 164,
   "id": "2e18d1d2",
   "metadata": {
    "scrolled": true
   },
   "outputs": [
    {
     "data": {
      "text/plain": [
       "<enumerate at 0x2b9003b47c0>"
      ]
     },
     "execution_count": 164,
     "metadata": {},
     "output_type": "execute_result"
    }
   ],
   "source": [
    "enumerate(range(4)) "
   ]
  },
  {
   "cell_type": "code",
   "execution_count": 165,
   "id": "8cbd37f6",
   "metadata": {},
   "outputs": [
    {
     "data": {
      "text/plain": [
       "[(0, 0), (1, 1), (2, 2), (3, 3)]"
      ]
     },
     "execution_count": 165,
     "metadata": {},
     "output_type": "execute_result"
    }
   ],
   "source": [
    "list(enumerate(range(4)))"
   ]
  },
  {
   "cell_type": "markdown",
   "id": "dd3372bf",
   "metadata": {},
   "source": [
    "`enumerate` is one type of generator. the built-in range type behaves slightly differently than other generators. \n",
    "\n",
    "They must be unpacked to be accessed -- either by a class constructor, as above; or using a loop.\n",
    "\n",
    "Generators can be used as 'comprehensions', for lists or dictionaries"
   ]
  },
  {
   "cell_type": "markdown",
   "id": "f7ced098",
   "metadata": {},
   "source": [
    "# list comprehensions"
   ]
  },
  {
   "cell_type": "code",
   "execution_count": 166,
   "id": "68965791",
   "metadata": {
    "scrolled": false
   },
   "outputs": [
    {
     "data": {
      "text/plain": [
       "[(1, 'a'), (2, 'b'), (3, 'c'), (4, 'd'), (5, 'e'), (6, 'f'), (7, 'g')]"
      ]
     },
     "execution_count": 166,
     "metadata": {},
     "output_type": "execute_result"
    }
   ],
   "source": [
    "[(k,v) for k,v in zip(lst, lst2)] "
   ]
  },
  {
   "cell_type": "code",
   "execution_count": 167,
   "id": "fd584268",
   "metadata": {
    "scrolled": false
   },
   "outputs": [
    {
     "data": {
      "text/plain": [
       "[(1, 'a'), (2, 'b'), (3, 'c'), (4, 'd'), (5, 'e'), (6, 'f'), (7, 'g')]"
      ]
     },
     "execution_count": 167,
     "metadata": {},
     "output_type": "execute_result"
    }
   ],
   "source": [
    "[(k,v) for k,v in zip(lst, lst2)] "
   ]
  },
  {
   "cell_type": "markdown",
   "id": "535d0380",
   "metadata": {},
   "source": [
    "tuple unpacking (the second pair of elements) doesn't require parentheses, but the number of elements returned must match the number of lists/generators passed to zip"
   ]
  },
  {
   "cell_type": "code",
   "execution_count": 168,
   "id": "858da1fa",
   "metadata": {},
   "outputs": [
    {
     "data": {
      "text/plain": [
       "[(1, 'a'), (2, 'b'), (3, 'c'), (4, 'd'), (5, 'e'), (6, 'f'), (7, 'g')]"
      ]
     },
     "execution_count": 168,
     "metadata": {},
     "output_type": "execute_result"
    }
   ],
   "source": [
    "lst5 = list(zip(lst,lst2))\n",
    "lst5"
   ]
  },
  {
   "cell_type": "markdown",
   "id": "b657241c",
   "metadata": {},
   "source": [
    "# dictionary comprehension"
   ]
  },
  {
   "cell_type": "code",
   "execution_count": 169,
   "id": "ace085b2",
   "metadata": {},
   "outputs": [
    {
     "data": {
      "text/plain": [
       "{1: 'a', 2: 'b', 3: 'c', 4: 'd', 5: 'e', 6: 'f', 7: 'g'}"
      ]
     },
     "execution_count": 169,
     "metadata": {},
     "output_type": "execute_result"
    }
   ],
   "source": [
    "{k:v for k,v in lst5}"
   ]
  },
  {
   "cell_type": "markdown",
   "id": "3eb3f42e",
   "metadata": {},
   "source": [
    "zip operates as a generator which accepts two lists (or generators), and `yield`s a single list of tuples, of length equal to the shortest 'list' passed to zip. "
   ]
  },
  {
   "cell_type": "code",
   "execution_count": 67,
   "id": "c228cccc",
   "metadata": {
    "scrolled": true
   },
   "outputs": [
    {
     "data": {
      "text/plain": [
       "[(1, 'a'), (2, 'b'), (3, 'c'), (4, 'd'), (5, 'e'), (6, 'f'), (7, 'g')]"
      ]
     },
     "execution_count": 67,
     "metadata": {},
     "output_type": "execute_result"
    }
   ],
   "source": [
    "list(zip(range(1, 1000), lst2))"
   ]
  },
  {
   "cell_type": "code",
   "execution_count": 69,
   "id": "90a80bed",
   "metadata": {},
   "outputs": [
    {
     "data": {
      "text/plain": [
       "{1: 'a', 2: 'b', 3: 'c', 4: 'd', 5: 'e', 6: 'f', 7: 'g'}"
      ]
     },
     "execution_count": 69,
     "metadata": {},
     "output_type": "execute_result"
    }
   ],
   "source": [
    "{k:v for k, v in zip(range(1,1000), lst2)}"
   ]
  },
  {
   "cell_type": "code",
   "execution_count": 10,
   "id": "a627173c",
   "metadata": {},
   "outputs": [
    {
     "name": "stdout",
     "output_type": "stream",
     "text": [
      "(0, 0)\n",
      "(1, 1)\n",
      "(2, 2)\n",
      "(3, 3)\n"
     ]
    }
   ],
   "source": [
    "for i in enumerate(range(4)):\n",
    "    print(i)"
   ]
  },
  {
   "cell_type": "code",
   "execution_count": 11,
   "id": "0b1828ef",
   "metadata": {
    "scrolled": true
   },
   "outputs": [
    {
     "name": "stdout",
     "output_type": "stream",
     "text": [
      "0 * 0\n",
      "1 * 1\n",
      "2 * 2\n",
      "3 * 3\n"
     ]
    }
   ],
   "source": [
    "for idx, i in enumerate(range(4)):\n",
    "    print(idx, '*', i)"
   ]
  },
  {
   "cell_type": "markdown",
   "id": "b01be410",
   "metadata": {},
   "source": [
    "As far as I know this does not have a limit;"
   ]
  },
  {
   "cell_type": "code",
   "execution_count": 102,
   "id": "a3957580",
   "metadata": {
    "scrolled": false
   },
   "outputs": [
    {
     "data": {
      "text/plain": [
       "[(1, 'a', ['a', 'b', 'c', 'd', 'e', 'f', 'g']),\n",
       " (2, 'b', ['a', 'b', 'c', 'd', 'e', 'f', 'g']),\n",
       " (3, 'c', ['a', 'b', 'c', 'd', 'e', 'f', 'g']),\n",
       " (4, 'd', ['a', 'b', 'c', 'd', 'e', 'f', 'g']),\n",
       " (5, 'e', ['a', 'b', 'c', 'd', 'e', 'f', 'g']),\n",
       " (6, 'f', ['a', 'b', 'c', 'd', 'e', 'f', 'g']),\n",
       " (7, 'g', ['a', 'b', 'c', 'd', 'e', 'f', 'g']),\n",
       " (1, 'a', ['a', 'b', 'c', 'd', 'e', 'f', 'g']),\n",
       " (2, 'b', ['a', 'b', 'c', 'd', 'e', 'f', 'g']),\n",
       " (3, 'c', ['a', 'b', 'c', 'd', 'e', 'f', 'g']),\n",
       " (4, 'd', ['a', 'b', 'c', 'd', 'e', 'f', 'g']),\n",
       " (5, 'e', ['a', 'b', 'c', 'd', 'e', 'f', 'g']),\n",
       " (6, 'f', ['a', 'b', 'c', 'd', 'e', 'f', 'g']),\n",
       " (7, 'g', ['a', 'b', 'c', 'd', 'e', 'f', 'g'])]"
      ]
     },
     "execution_count": 102,
     "metadata": {},
     "output_type": "execute_result"
    }
   ],
   "source": [
    "lst4 += lst4\n",
    "lst4"
   ]
  },
  {
   "cell_type": "code",
   "execution_count": 111,
   "id": "d314ffa1",
   "metadata": {},
   "outputs": [
    {
     "data": {
      "text/plain": [
       "[]"
      ]
     },
     "execution_count": 111,
     "metadata": {},
     "output_type": "execute_result"
    }
   ],
   "source": [
    "lst4 = lst4[:7]\n",
    "lst4"
   ]
  },
  {
   "cell_type": "code",
   "execution_count": 95,
   "id": "cd5bd809",
   "metadata": {},
   "outputs": [],
   "source": [
    "lst5 = [(x, y, z) for x, y, z in (zip(lst, lst2, lst3))]"
   ]
  },
  {
   "cell_type": "code",
   "execution_count": 99,
   "id": "116d7a30",
   "metadata": {},
   "outputs": [
    {
     "data": {
      "text/plain": [
       "{1: ['a', ['a', 'b', 'c', 'd', 'e', 'f', 'g']],\n",
       " 2: ['b', ['a', 'b', 'c', 'd', 'e', 'f', 'g']],\n",
       " 3: ['c', ['a', 'b', 'c', 'd', 'e', 'f', 'g']],\n",
       " 4: ['d', ['a', 'b', 'c', 'd', 'e', 'f', 'g']],\n",
       " 5: ['e', ['a', 'b', 'c', 'd', 'e', 'f', 'g']],\n",
       " 6: ['f', ['a', 'b', 'c', 'd', 'e', 'f', 'g']],\n",
       " 7: ['g', ['a', 'b', 'c', 'd', 'e', 'f', 'g']]}"
      ]
     },
     "execution_count": 99,
     "metadata": {},
     "output_type": "execute_result"
    }
   ],
   "source": [
    "{k:[v, x] for k, v, x in lst5}"
   ]
  },
  {
   "cell_type": "code",
   "execution_count": 103,
   "id": "d591f626",
   "metadata": {},
   "outputs": [],
   "source": [
    "lst5 = [(x, y, z) for x, y, z in (zip(lst, lst2, lst3))] # returns only values which 'fill the tuples'"
   ]
  },
  {
   "cell_type": "code",
   "execution_count": 104,
   "id": "a1ac0dc8",
   "metadata": {},
   "outputs": [
    {
     "data": {
      "text/plain": [
       "{1: ['a', ['a', 'b', 'c', 'd', 'e', 'f', 'g']],\n",
       " 2: ['b', ['a', 'b', 'c', 'd', 'e', 'f', 'g']],\n",
       " 3: ['c', ['a', 'b', 'c', 'd', 'e', 'f', 'g']],\n",
       " 4: ['d', ['a', 'b', 'c', 'd', 'e', 'f', 'g']],\n",
       " 5: ['e', ['a', 'b', 'c', 'd', 'e', 'f', 'g']],\n",
       " 6: ['f', ['a', 'b', 'c', 'd', 'e', 'f', 'g']],\n",
       " 7: ['g', ['a', 'b', 'c', 'd', 'e', 'f', 'g']]}"
      ]
     },
     "execution_count": 104,
     "metadata": {},
     "output_type": "execute_result"
    }
   ],
   "source": [
    "{k:[v, x] for k, v, x in lst5}"
   ]
  },
  {
   "cell_type": "markdown",
   "id": "4c5d90c9",
   "metadata": {},
   "source": [
    "Take a look at some common data `types` in the list below:"
   ]
  },
  {
   "cell_type": "code",
   "execution_count": 12,
   "id": "bc8e973c",
   "metadata": {
    "scrolled": true
   },
   "outputs": [],
   "source": [
    "lst = [1,2.2,'c', list(enumerate(range(4))),{5,'f',7,'h'}, (9,'j',11), {k:v for (k, v) in enumerate(range(12))}, True]"
   ]
  },
  {
   "cell_type": "code",
   "execution_count": 13,
   "id": "4ce34070",
   "metadata": {},
   "outputs": [
    {
     "data": {
      "text/plain": [
       "<generator object <genexpr> at 0x000002B9584A9EB0>"
      ]
     },
     "execution_count": 13,
     "metadata": {},
     "output_type": "execute_result"
    }
   ],
   "source": [
    "(type(i) for i in lst) # this is a generator. "
   ]
  },
  {
   "cell_type": "markdown",
   "id": "bc209d56",
   "metadata": {},
   "source": [
    "Typically wrapped in parentheses, a generator can also be returned by a function (by using the `yield` keyword instead of the `return` keyword). To unpack a generator, simply pass it to the appropriate `type` constructor -- which is a function (and also an object...)"
   ]
  },
  {
   "cell_type": "code",
   "execution_count": 14,
   "id": "aa4d5ba1",
   "metadata": {},
   "outputs": [
    {
     "data": {
      "text/plain": [
       "[int, float, str, list, set, tuple, dict, bool]"
      ]
     },
     "execution_count": 14,
     "metadata": {},
     "output_type": "execute_result"
    }
   ],
   "source": [
    "list(type(i) for i in lst)"
   ]
  },
  {
   "cell_type": "code",
   "execution_count": 49,
   "id": "00037419",
   "metadata": {},
   "outputs": [],
   "source": [
    "def gen_1():\n",
    "    a = 10\n",
    "    while a > 0:\n",
    "        a -= 1\n",
    "        yield a\n"
   ]
  },
  {
   "cell_type": "code",
   "execution_count": 51,
   "id": "9c052bee",
   "metadata": {},
   "outputs": [
    {
     "data": {
      "text/plain": [
       "9"
      ]
     },
     "execution_count": 51,
     "metadata": {},
     "output_type": "execute_result"
    }
   ],
   "source": [
    "next(gen_1())"
   ]
  },
  {
   "cell_type": "code",
   "execution_count": 52,
   "id": "a3ffd1d4",
   "metadata": {},
   "outputs": [
    {
     "data": {
      "text/plain": [
       "[9, 8, 7, 6, 5, 4, 3, 2, 1, 0]"
      ]
     },
     "execution_count": 52,
     "metadata": {},
     "output_type": "execute_result"
    }
   ],
   "source": [
    "list(gen_1())"
   ]
  },
  {
   "cell_type": "markdown",
   "id": "871764a6",
   "metadata": {},
   "source": [
    "## Class Objects, Inheritance, "
   ]
  },
  {
   "cell_type": "markdown",
   "id": "b136a007",
   "metadata": {},
   "source": [
    "if we call list(), we return an empty list. But if we call list we can see the attributes of the `class object` which accepts arguments (and thereby serves as a `class constructor`):"
   ]
  },
  {
   "cell_type": "code",
   "execution_count": 15,
   "id": "cdb722fe",
   "metadata": {},
   "outputs": [
    {
     "data": {
      "text/plain": [
       "[]"
      ]
     },
     "execution_count": 15,
     "metadata": {},
     "output_type": "execute_result"
    }
   ],
   "source": [
    "list()"
   ]
  },
  {
   "cell_type": "code",
   "execution_count": 16,
   "id": "211ba33c",
   "metadata": {},
   "outputs": [
    {
     "data": {
      "text/plain": [
       "list"
      ]
     },
     "execution_count": 16,
     "metadata": {},
     "output_type": "execute_result"
    }
   ],
   "source": [
    "list"
   ]
  },
  {
   "cell_type": "code",
   "execution_count": 17,
   "id": "f66fadda",
   "metadata": {},
   "outputs": [
    {
     "data": {
      "text/plain": [
       "mappingproxy({'__repr__': <slot wrapper '__repr__' of 'list' objects>,\n",
       "              '__hash__': None,\n",
       "              '__getattribute__': <slot wrapper '__getattribute__' of 'list' objects>,\n",
       "              '__lt__': <slot wrapper '__lt__' of 'list' objects>,\n",
       "              '__le__': <slot wrapper '__le__' of 'list' objects>,\n",
       "              '__eq__': <slot wrapper '__eq__' of 'list' objects>,\n",
       "              '__ne__': <slot wrapper '__ne__' of 'list' objects>,\n",
       "              '__gt__': <slot wrapper '__gt__' of 'list' objects>,\n",
       "              '__ge__': <slot wrapper '__ge__' of 'list' objects>,\n",
       "              '__iter__': <slot wrapper '__iter__' of 'list' objects>,\n",
       "              '__init__': <slot wrapper '__init__' of 'list' objects>,\n",
       "              '__len__': <slot wrapper '__len__' of 'list' objects>,\n",
       "              '__getitem__': <method '__getitem__' of 'list' objects>,\n",
       "              '__setitem__': <slot wrapper '__setitem__' of 'list' objects>,\n",
       "              '__delitem__': <slot wrapper '__delitem__' of 'list' objects>,\n",
       "              '__add__': <slot wrapper '__add__' of 'list' objects>,\n",
       "              '__mul__': <slot wrapper '__mul__' of 'list' objects>,\n",
       "              '__rmul__': <slot wrapper '__rmul__' of 'list' objects>,\n",
       "              '__contains__': <slot wrapper '__contains__' of 'list' objects>,\n",
       "              '__iadd__': <slot wrapper '__iadd__' of 'list' objects>,\n",
       "              '__imul__': <slot wrapper '__imul__' of 'list' objects>,\n",
       "              '__new__': <function list.__new__(*args, **kwargs)>,\n",
       "              '__reversed__': <method '__reversed__' of 'list' objects>,\n",
       "              '__sizeof__': <method '__sizeof__' of 'list' objects>,\n",
       "              'clear': <method 'clear' of 'list' objects>,\n",
       "              'copy': <method 'copy' of 'list' objects>,\n",
       "              'append': <method 'append' of 'list' objects>,\n",
       "              'insert': <method 'insert' of 'list' objects>,\n",
       "              'extend': <method 'extend' of 'list' objects>,\n",
       "              'pop': <method 'pop' of 'list' objects>,\n",
       "              'remove': <method 'remove' of 'list' objects>,\n",
       "              'index': <method 'index' of 'list' objects>,\n",
       "              'count': <method 'count' of 'list' objects>,\n",
       "              'reverse': <method 'reverse' of 'list' objects>,\n",
       "              'sort': <method 'sort' of 'list' objects>,\n",
       "              '__class_getitem__': <method '__class_getitem__' of 'list' objects>,\n",
       "              '__doc__': 'Built-in mutable sequence.\\n\\nIf no argument is given, the constructor creates a new empty list.\\nThe argument must be an iterable if specified.'})"
      ]
     },
     "execution_count": 17,
     "metadata": {},
     "output_type": "execute_result"
    }
   ],
   "source": [
    "list.__dict__ # this is the CLASS definition of attributes. \n",
    "\n",
    "#Don't mess around with dunder properties unless you know what you're doing -- especially with a built-in class object.\n",
    "# some notables from below: equality operators (less than, less or equal, equal, not equal, greater than, greater or eqal)\n",
    "# we can also find the `class functions` that this object has access to (accessed through 'dot notation')"
   ]
  },
  {
   "cell_type": "markdown",
   "id": "8692a13f",
   "metadata": {},
   "source": [
    "To demonstrate the differences between a class object and an instance of a class object, let's use an example."
   ]
  },
  {
   "cell_type": "code",
   "execution_count": 18,
   "id": "e99e7724",
   "metadata": {},
   "outputs": [],
   "source": [
    "class RijulTest1:\n",
    "    ''' triple quotes allow multi-line strings. They are also used as doc strings -- '''\n",
    "    def __init__(self): # the init function is called upon assignment (the binding of a class instance to a variable)\n",
    "        print('I have no arguments except self')\n",
    "        self.message = 'My self.message attribute was set in the init'\n",
    "        pass\n",
    "    \n",
    "    def test(self):\n",
    "        print('When calling a class function (or method) of a bound instance of a class object, `self` is passed as the first argument')\n",
    "        print(self.message)"
   ]
  },
  {
   "cell_type": "code",
   "execution_count": 19,
   "id": "9fa5d8ce",
   "metadata": {},
   "outputs": [
    {
     "data": {
      "text/plain": [
       "mappingproxy({'__module__': '__main__',\n",
       "              '__doc__': ' triple quotes allow multi-line strings. They are also used as doc strings -- ',\n",
       "              '__init__': <function __main__.RijulTest1.__init__(self)>,\n",
       "              'test': <function __main__.RijulTest1.test(self)>,\n",
       "              '__dict__': <attribute '__dict__' of 'RijulTest1' objects>,\n",
       "              '__weakref__': <attribute '__weakref__' of 'RijulTest1' objects>})"
      ]
     },
     "execution_count": 19,
     "metadata": {},
     "output_type": "execute_result"
    }
   ],
   "source": [
    "vars(RijulTest1)"
   ]
  },
  {
   "cell_type": "code",
   "execution_count": 22,
   "id": "8a6ba4a7",
   "metadata": {},
   "outputs": [
    {
     "data": {
      "text/plain": [
       "__main__.RijulTest1"
      ]
     },
     "execution_count": 22,
     "metadata": {},
     "output_type": "execute_result"
    }
   ],
   "source": [
    "RijulTest1 \n",
    "# this class definition exists in the top-level namespace of this script; what we're typing. \n",
    "# It's indicated by the string '__main__'"
   ]
  },
  {
   "cell_type": "code",
   "execution_count": 23,
   "id": "e0f307c3",
   "metadata": {},
   "outputs": [
    {
     "name": "stdout",
     "output_type": "stream",
     "text": [
      "I have no arguments except self\n"
     ]
    }
   ],
   "source": [
    "my_instance = RijulTest1() # __init__ is called at binding, which prints the message in that function."
   ]
  },
  {
   "cell_type": "code",
   "execution_count": 24,
   "id": "6ceae299",
   "metadata": {},
   "outputs": [
    {
     "data": {
      "text/plain": [
       "<__main__.RijulTest1 at 0x2be7344a0a0>"
      ]
     },
     "execution_count": 24,
     "metadata": {},
     "output_type": "execute_result"
    }
   ],
   "source": [
    "my_instance # a bound instance exists in memory"
   ]
  },
  {
   "cell_type": "code",
   "execution_count": 25,
   "id": "b2f28f62",
   "metadata": {},
   "outputs": [
    {
     "data": {
      "text/plain": [
       "'My self.message attribute was set in the init'"
      ]
     },
     "execution_count": 25,
     "metadata": {},
     "output_type": "execute_result"
    }
   ],
   "source": [
    "my_instance.message # a bound instance of a class has the attributes of the class definition from which it IS inheriting"
   ]
  },
  {
   "cell_type": "code",
   "execution_count": 30,
   "id": "53e9e2bd",
   "metadata": {},
   "outputs": [
    {
     "name": "stdout",
     "output_type": "stream",
     "text": [
      "When calling a class function (or method) of a bound instance of a class object, `self` is passed as the first argument\n",
      "My self.message attribute was set in the init\n"
     ]
    }
   ],
   "source": [
    " RijulTest1.test()"
   ]
  },
  {
   "cell_type": "code",
   "execution_count": 61,
   "id": "f3d21086",
   "metadata": {},
   "outputs": [
    {
     "name": "stdout",
     "output_type": "stream",
     "text": [
      "When calling a class function (or method) of a bound instance of a class object, `self` is passed as the first argument\n",
      "My self.message attribute was set in the init\n"
     ]
    }
   ],
   "source": [
    "my_instance.test() # the class function (therefore a method) test() passes `self` as the first parameter, similar to R.\n"
   ]
  },
  {
   "cell_type": "code",
   "execution_count": 31,
   "id": "81fae233",
   "metadata": {},
   "outputs": [
    {
     "name": "stdout",
     "output_type": "stream",
     "text": [
      "When calling a class function (or method) of a bound instance of a class object, `self` is passed as the first argument\n",
      "My self.message attribute was set in the init\n"
     ]
    }
   ],
   "source": [
    " RijulTest1.test(my_instance) # we can also call the class function test and pass a bound instance of the class to call the function"
   ]
  },
  {
   "cell_type": "code",
   "execution_count": 32,
   "id": "3b3ed151",
   "metadata": {},
   "outputs": [],
   "source": [
    "my_instance.message = 'self.message has been manually altered'"
   ]
  },
  {
   "cell_type": "code",
   "execution_count": 33,
   "id": "e3618d57",
   "metadata": {},
   "outputs": [
    {
     "name": "stdout",
     "output_type": "stream",
     "text": [
      "When calling a class function (or method) of a bound instance of a class object, `self` is passed as the first argument\n",
      "self.message has been manually altered\n"
     ]
    }
   ],
   "source": [
    "my_instance.test()"
   ]
  },
  {
   "cell_type": "code",
   "execution_count": 34,
   "id": "29844d1f",
   "metadata": {},
   "outputs": [
    {
     "ename": "AttributeError",
     "evalue": "type object 'RijulTest1' has no attribute 'message'",
     "output_type": "error",
     "traceback": [
      "\u001b[1;31m---------------------------------------------------------------------------\u001b[0m",
      "\u001b[1;31mAttributeError\u001b[0m                            Traceback (most recent call last)",
      "Input \u001b[1;32mIn [34]\u001b[0m, in \u001b[0;36m<cell line: 1>\u001b[1;34m()\u001b[0m\n\u001b[1;32m----> 1\u001b[0m \u001b[43mRijulTest1\u001b[49m\u001b[38;5;241;43m.\u001b[39;49m\u001b[43mmessage\u001b[49m\n",
      "\u001b[1;31mAttributeError\u001b[0m: type object 'RijulTest1' has no attribute 'message'"
     ]
    }
   ],
   "source": [
    "RijulTest1.message \n",
    "# since __init__ does not run for the actual class definition (until it is assigned a variable name),\n",
    "# the class itself does not have the attribute `message`"
   ]
  },
  {
   "cell_type": "code",
   "execution_count": 35,
   "id": "53986df6",
   "metadata": {},
   "outputs": [
    {
     "name": "stdout",
     "output_type": "stream",
     "text": [
      "I have no arguments except self\n"
     ]
    }
   ],
   "source": [
    "my_instance2 = RijulTest1()"
   ]
  },
  {
   "cell_type": "code",
   "execution_count": 36,
   "id": "19035525",
   "metadata": {},
   "outputs": [
    {
     "data": {
      "text/plain": [
       "'My self.message attribute was set in the init'"
      ]
     },
     "execution_count": 36,
     "metadata": {},
     "output_type": "execute_result"
    }
   ],
   "source": [
    "my_instance2.message"
   ]
  },
  {
   "cell_type": "code",
   "execution_count": 41,
   "id": "8752b30d",
   "metadata": {},
   "outputs": [],
   "source": [
    "RijulTest1.new_attribute = 'this was added to the class definition after the creation of the two instances'"
   ]
  },
  {
   "cell_type": "code",
   "execution_count": 42,
   "id": "bbfafda3",
   "metadata": {},
   "outputs": [
    {
     "data": {
      "text/plain": [
       "'this was added to the class definition after the creation of the two instances'"
      ]
     },
     "execution_count": 42,
     "metadata": {},
     "output_type": "execute_result"
    }
   ],
   "source": [
    "my_instance.new_attribute"
   ]
  },
  {
   "cell_type": "code",
   "execution_count": 43,
   "id": "01dfd350",
   "metadata": {},
   "outputs": [
    {
     "data": {
      "text/plain": [
       "'this was added to the class definition after the creation of the two instances'"
      ]
     },
     "execution_count": 43,
     "metadata": {},
     "output_type": "execute_result"
    }
   ],
   "source": [
    "my_instance2.new_attribute"
   ]
  },
  {
   "cell_type": "markdown",
   "id": "6f3ad294",
   "metadata": {},
   "source": [
    "We can examine the attributes in a class."
   ]
  },
  {
   "cell_type": "code",
   "execution_count": 44,
   "id": "379e10b8",
   "metadata": {},
   "outputs": [
    {
     "data": {
      "text/plain": [
       "mappingproxy({'__module__': '__main__',\n",
       "              '__doc__': ' triple quotes allow multi-line strings. They are also used as doc strings -- ',\n",
       "              '__init__': <function __main__.RijulTest1.__init__(self)>,\n",
       "              'test': <function __main__.RijulTest1.test(self)>,\n",
       "              '__dict__': <attribute '__dict__' of 'RijulTest1' objects>,\n",
       "              '__weakref__': <attribute '__weakref__' of 'RijulTest1' objects>,\n",
       "              'new_attribute': 'this was added to the class definition after the creation of the two instances'})"
      ]
     },
     "execution_count": 44,
     "metadata": {},
     "output_type": "execute_result"
    }
   ],
   "source": [
    "RijulTest1.__dict__"
   ]
  },
  {
   "cell_type": "markdown",
   "id": "ab643dfc",
   "metadata": {},
   "source": [
    "Calling the `class constructor` calls the \\_\\_init\\_\\_ method, where 'self' is the variable name passed to the call."
   ]
  },
  {
   "cell_type": "markdown",
   "id": "56f30185",
   "metadata": {},
   "source": [
    "## Asana API"
   ]
  },
  {
   "cell_type": "code",
   "execution_count": 45,
   "id": "0cb4091b",
   "metadata": {},
   "outputs": [],
   "source": [
    "client = asana.Client.access_token('1/1137878878147075:1c4f308eeb3a96eed280a4ca89d2aec1')\n",
    "workspaces = pd.DataFrame(client.workspaces.find_all())"
   ]
  },
  {
   "cell_type": "code",
   "execution_count": 46,
   "id": "e4069a17",
   "metadata": {},
   "outputs": [],
   "source": [
    "projects = pd.DataFrame(client.projects.find_all({'workspace':workspaces.loc[0,'gid']}))"
   ]
  },
  {
   "cell_type": "code",
   "execution_count": 47,
   "id": "bc7ad681",
   "metadata": {
    "scrolled": true
   },
   "outputs": [
    {
     "data": {
      "text/html": [
       "<div>\n",
       "<style scoped>\n",
       "    .dataframe tbody tr th:only-of-type {\n",
       "        vertical-align: middle;\n",
       "    }\n",
       "\n",
       "    .dataframe tbody tr th {\n",
       "        vertical-align: top;\n",
       "    }\n",
       "\n",
       "    .dataframe thead th {\n",
       "        text-align: right;\n",
       "    }\n",
       "</style>\n",
       "<table border=\"1\" class=\"dataframe\">\n",
       "  <thead>\n",
       "    <tr style=\"text-align: right;\">\n",
       "      <th></th>\n",
       "      <th>gid</th>\n",
       "      <th>name</th>\n",
       "      <th>resource_type</th>\n",
       "    </tr>\n",
       "  </thead>\n",
       "  <tbody>\n",
       "    <tr>\n",
       "      <th>0</th>\n",
       "      <td>1137878513587348</td>\n",
       "      <td>Data Science</td>\n",
       "      <td>project</td>\n",
       "    </tr>\n",
       "    <tr>\n",
       "      <th>1</th>\n",
       "      <td>1199359221874309</td>\n",
       "      <td>Business Chain System</td>\n",
       "      <td>project</td>\n",
       "    </tr>\n",
       "  </tbody>\n",
       "</table>\n",
       "</div>"
      ],
      "text/plain": [
       "                gid                   name resource_type\n",
       "0  1137878513587348           Data Science       project\n",
       "1  1199359221874309  Business Chain System       project"
      ]
     },
     "execution_count": 47,
     "metadata": {},
     "output_type": "execute_result"
    }
   ],
   "source": [
    "projects"
   ]
  },
  {
   "cell_type": "code",
   "execution_count": 48,
   "id": "c500fc78",
   "metadata": {},
   "outputs": [
    {
     "data": {
      "text/html": [
       "<div>\n",
       "<style scoped>\n",
       "    .dataframe tbody tr th:only-of-type {\n",
       "        vertical-align: middle;\n",
       "    }\n",
       "\n",
       "    .dataframe tbody tr th {\n",
       "        vertical-align: top;\n",
       "    }\n",
       "\n",
       "    .dataframe thead th {\n",
       "        text-align: right;\n",
       "    }\n",
       "</style>\n",
       "<table border=\"1\" class=\"dataframe\">\n",
       "  <thead>\n",
       "    <tr style=\"text-align: right;\">\n",
       "      <th></th>\n",
       "      <th>gid</th>\n",
       "      <th>name</th>\n",
       "      <th>resource_type</th>\n",
       "    </tr>\n",
       "  </thead>\n",
       "  <tbody>\n",
       "    <tr>\n",
       "      <th>0</th>\n",
       "      <td>1137878513587348</td>\n",
       "      <td>Data Science</td>\n",
       "      <td>project</td>\n",
       "    </tr>\n",
       "  </tbody>\n",
       "</table>\n",
       "</div>"
      ],
      "text/plain": [
       "                gid          name resource_type\n",
       "0  1137878513587348  Data Science       project"
      ]
     },
     "execution_count": 48,
     "metadata": {},
     "output_type": "execute_result"
    }
   ],
   "source": [
    "# filter dataframe..\n",
    "projects[projects['name']=='Data Science']"
   ]
  },
  {
   "cell_type": "code",
   "execution_count": 49,
   "id": "822b1a6e",
   "metadata": {
    "scrolled": true
   },
   "outputs": [
    {
     "data": {
      "text/html": [
       "<div>\n",
       "<style scoped>\n",
       "    .dataframe tbody tr th:only-of-type {\n",
       "        vertical-align: middle;\n",
       "    }\n",
       "\n",
       "    .dataframe tbody tr th {\n",
       "        vertical-align: top;\n",
       "    }\n",
       "\n",
       "    .dataframe thead th {\n",
       "        text-align: right;\n",
       "    }\n",
       "</style>\n",
       "<table border=\"1\" class=\"dataframe\">\n",
       "  <thead>\n",
       "    <tr style=\"text-align: right;\">\n",
       "      <th></th>\n",
       "      <th>gid</th>\n",
       "      <th>name</th>\n",
       "      <th>resource_type</th>\n",
       "    </tr>\n",
       "  </thead>\n",
       "  <tbody>\n",
       "    <tr>\n",
       "      <th>0</th>\n",
       "      <td>1137878513587350</td>\n",
       "      <td>Planning:</td>\n",
       "      <td>section</td>\n",
       "    </tr>\n",
       "    <tr>\n",
       "      <th>1</th>\n",
       "      <td>1137878513587360</td>\n",
       "      <td>Projects:</td>\n",
       "      <td>section</td>\n",
       "    </tr>\n",
       "    <tr>\n",
       "      <th>2</th>\n",
       "      <td>1138151720971849</td>\n",
       "      <td>Timeline</td>\n",
       "      <td>section</td>\n",
       "    </tr>\n",
       "    <tr>\n",
       "      <th>3</th>\n",
       "      <td>1137878513587361</td>\n",
       "      <td>Interview Process:</td>\n",
       "      <td>section</td>\n",
       "    </tr>\n",
       "  </tbody>\n",
       "</table>\n",
       "</div>"
      ],
      "text/plain": [
       "                gid                name resource_type\n",
       "0  1137878513587350           Planning:       section\n",
       "1  1137878513587360           Projects:       section\n",
       "2  1138151720971849            Timeline       section\n",
       "3  1137878513587361  Interview Process:       section"
      ]
     },
     "execution_count": 49,
     "metadata": {},
     "output_type": "execute_result"
    }
   ],
   "source": [
    "sbr_project_sections = sections = pd.DataFrame(client.sections.find_by_project(projects[projects['name']=='Data Science'].loc[0, 'gid']))\n",
    "sbr_project_sections"
   ]
  },
  {
   "cell_type": "code",
   "execution_count": 56,
   "id": "143dc0d7",
   "metadata": {},
   "outputs": [
    {
     "data": {
      "text/plain": [
       "{'gid': '1137879660321714',\n",
       " 'resource_type': 'user_task_list',\n",
       " 'name': 'My Tasks in Data Scienctist',\n",
       " 'owner': {'gid': '1137878878147075',\n",
       "  'name': 'Vidharth Kate',\n",
       "  'resource_type': 'user'},\n",
       " 'workspace': {'gid': '1137879660321707',\n",
       "  'name': 'Data Scienctist',\n",
       "  'resource_type': 'workspace'},\n",
       " 'migration_status': 'completed'}"
      ]
     },
     "execution_count": 56,
     "metadata": {},
     "output_type": "execute_result"
    }
   ],
   "source": [
    "client.user_task_lists.find_by_user('me',{'workspace':workspaces.loc[0, 'gid']})\n"
   ]
  },
  {
   "cell_type": "code",
   "execution_count": 68,
   "id": "31440265",
   "metadata": {},
   "outputs": [
    {
     "data": {
      "text/html": [
       "<div>\n",
       "<style scoped>\n",
       "    .dataframe tbody tr th:only-of-type {\n",
       "        vertical-align: middle;\n",
       "    }\n",
       "\n",
       "    .dataframe tbody tr th {\n",
       "        vertical-align: top;\n",
       "    }\n",
       "\n",
       "    .dataframe thead th {\n",
       "        text-align: right;\n",
       "    }\n",
       "</style>\n",
       "<table border=\"1\" class=\"dataframe\">\n",
       "  <thead>\n",
       "    <tr style=\"text-align: right;\">\n",
       "      <th></th>\n",
       "      <th>gid</th>\n",
       "      <th>name</th>\n",
       "      <th>resource_type</th>\n",
       "    </tr>\n",
       "  </thead>\n",
       "  <tbody>\n",
       "    <tr>\n",
       "      <th>0</th>\n",
       "      <td>1202495095731272</td>\n",
       "      <td>Sample Task 123</td>\n",
       "      <td>task</td>\n",
       "    </tr>\n",
       "    <tr>\n",
       "      <th>1</th>\n",
       "      <td>1202495147346591</td>\n",
       "      <td>Sample Task 123</td>\n",
       "      <td>task</td>\n",
       "    </tr>\n",
       "    <tr>\n",
       "      <th>2</th>\n",
       "      <td>1202490379325039</td>\n",
       "      <td>Learn to use Nunchucks</td>\n",
       "      <td>task</td>\n",
       "    </tr>\n",
       "    <tr>\n",
       "      <th>3</th>\n",
       "      <td>1142949942959153</td>\n",
       "      <td>Hacker Rank Practise</td>\n",
       "      <td>task</td>\n",
       "    </tr>\n",
       "    <tr>\n",
       "      <th>4</th>\n",
       "      <td>1142949942959148</td>\n",
       "      <td>Google Analytics</td>\n",
       "      <td>task</td>\n",
       "    </tr>\n",
       "    <tr>\n",
       "      <th>5</th>\n",
       "      <td>1142949942935142</td>\n",
       "      <td>PowerBi</td>\n",
       "      <td>task</td>\n",
       "    </tr>\n",
       "    <tr>\n",
       "      <th>6</th>\n",
       "      <td>1142949942935141</td>\n",
       "      <td>Tableau</td>\n",
       "      <td>task</td>\n",
       "    </tr>\n",
       "    <tr>\n",
       "      <th>7</th>\n",
       "      <td>1139930058974902</td>\n",
       "      <td>Logistic Regression</td>\n",
       "      <td>task</td>\n",
       "    </tr>\n",
       "    <tr>\n",
       "      <th>8</th>\n",
       "      <td>1139930058974897</td>\n",
       "      <td>Seaborn</td>\n",
       "      <td>task</td>\n",
       "    </tr>\n",
       "    <tr>\n",
       "      <th>9</th>\n",
       "      <td>1138259424919954</td>\n",
       "      <td>Create Google Analytics Dashboard</td>\n",
       "      <td>task</td>\n",
       "    </tr>\n",
       "    <tr>\n",
       "      <th>10</th>\n",
       "      <td>1137878513587351</td>\n",
       "      <td>Step 1: Learn SQL + DataScience Basics</td>\n",
       "      <td>task</td>\n",
       "    </tr>\n",
       "    <tr>\n",
       "      <th>11</th>\n",
       "      <td>1137878513587354</td>\n",
       "      <td>Step 2: Learn Python + DataScience Basics</td>\n",
       "      <td>task</td>\n",
       "    </tr>\n",
       "    <tr>\n",
       "      <th>12</th>\n",
       "      <td>1138259424919957</td>\n",
       "      <td>Explore BigQuery</td>\n",
       "      <td>task</td>\n",
       "    </tr>\n",
       "    <tr>\n",
       "      <th>13</th>\n",
       "      <td>1138259424919955</td>\n",
       "      <td>Crete Tableau dashboard</td>\n",
       "      <td>task</td>\n",
       "    </tr>\n",
       "    <tr>\n",
       "      <th>14</th>\n",
       "      <td>1138259424919956</td>\n",
       "      <td>Create Power BI dashboard</td>\n",
       "      <td>task</td>\n",
       "    </tr>\n",
       "    <tr>\n",
       "      <th>15</th>\n",
       "      <td>1138151720971850</td>\n",
       "      <td>Indexing and Hashing</td>\n",
       "      <td>task</td>\n",
       "    </tr>\n",
       "    <tr>\n",
       "      <th>16</th>\n",
       "      <td>1138151720971852</td>\n",
       "      <td>Query Processing</td>\n",
       "      <td>task</td>\n",
       "    </tr>\n",
       "    <tr>\n",
       "      <th>17</th>\n",
       "      <td>1138151720971854</td>\n",
       "      <td>Query Optimization</td>\n",
       "      <td>task</td>\n",
       "    </tr>\n",
       "    <tr>\n",
       "      <th>18</th>\n",
       "      <td>1138151720971856</td>\n",
       "      <td>XML</td>\n",
       "      <td>task</td>\n",
       "    </tr>\n",
       "    <tr>\n",
       "      <th>19</th>\n",
       "      <td>1138151720971858</td>\n",
       "      <td>Advance Querying and Information Retrieval</td>\n",
       "      <td>task</td>\n",
       "    </tr>\n",
       "    <tr>\n",
       "      <th>20</th>\n",
       "      <td>1138151720971860</td>\n",
       "      <td>Advance Data Type nad New Application</td>\n",
       "      <td>task</td>\n",
       "    </tr>\n",
       "    <tr>\n",
       "      <th>21</th>\n",
       "      <td>1138151720971862</td>\n",
       "      <td>NumPy</td>\n",
       "      <td>task</td>\n",
       "    </tr>\n",
       "    <tr>\n",
       "      <th>22</th>\n",
       "      <td>1138151720971864</td>\n",
       "      <td>Pandas</td>\n",
       "      <td>task</td>\n",
       "    </tr>\n",
       "    <tr>\n",
       "      <th>23</th>\n",
       "      <td>1138151720971866</td>\n",
       "      <td>Matplotlib</td>\n",
       "      <td>task</td>\n",
       "    </tr>\n",
       "    <tr>\n",
       "      <th>24</th>\n",
       "      <td>1138151720971883</td>\n",
       "      <td>API Integration</td>\n",
       "      <td>task</td>\n",
       "    </tr>\n",
       "    <tr>\n",
       "      <th>25</th>\n",
       "      <td>1138151720971868</td>\n",
       "      <td>Python Built-In Data Visualization</td>\n",
       "      <td>task</td>\n",
       "    </tr>\n",
       "    <tr>\n",
       "      <th>26</th>\n",
       "      <td>1138151720971870</td>\n",
       "      <td>Linear Regression</td>\n",
       "      <td>task</td>\n",
       "    </tr>\n",
       "    <tr>\n",
       "      <th>27</th>\n",
       "      <td>1138151720971872</td>\n",
       "      <td>Decision Trees and Random Forest</td>\n",
       "      <td>task</td>\n",
       "    </tr>\n",
       "    <tr>\n",
       "      <th>28</th>\n",
       "      <td>1138151720971874</td>\n",
       "      <td>Big Data and Spark with Python</td>\n",
       "      <td>task</td>\n",
       "    </tr>\n",
       "    <tr>\n",
       "      <th>29</th>\n",
       "      <td>1137878513587357</td>\n",
       "      <td>Editing Resume and Cover Letter</td>\n",
       "      <td>task</td>\n",
       "    </tr>\n",
       "    <tr>\n",
       "      <th>30</th>\n",
       "      <td>1137878513587358</td>\n",
       "      <td>Shortlisting companies for interview</td>\n",
       "      <td>task</td>\n",
       "    </tr>\n",
       "  </tbody>\n",
       "</table>\n",
       "</div>"
      ],
      "text/plain": [
       "                 gid                                        name resource_type\n",
       "0   1202495095731272                             Sample Task 123          task\n",
       "1   1202495147346591                             Sample Task 123          task\n",
       "2   1202490379325039                      Learn to use Nunchucks          task\n",
       "3   1142949942959153                       Hacker Rank Practise           task\n",
       "4   1142949942959148                            Google Analytics          task\n",
       "5   1142949942935142                                     PowerBi          task\n",
       "6   1142949942935141                                     Tableau          task\n",
       "7   1139930058974902                         Logistic Regression          task\n",
       "8   1139930058974897                                     Seaborn          task\n",
       "9   1138259424919954           Create Google Analytics Dashboard          task\n",
       "10  1137878513587351      Step 1: Learn SQL + DataScience Basics          task\n",
       "11  1137878513587354   Step 2: Learn Python + DataScience Basics          task\n",
       "12  1138259424919957                            Explore BigQuery          task\n",
       "13  1138259424919955                     Crete Tableau dashboard          task\n",
       "14  1138259424919956                   Create Power BI dashboard          task\n",
       "15  1138151720971850                        Indexing and Hashing          task\n",
       "16  1138151720971852                            Query Processing          task\n",
       "17  1138151720971854                          Query Optimization          task\n",
       "18  1138151720971856                                         XML          task\n",
       "19  1138151720971858  Advance Querying and Information Retrieval          task\n",
       "20  1138151720971860       Advance Data Type nad New Application          task\n",
       "21  1138151720971862                                       NumPy          task\n",
       "22  1138151720971864                                      Pandas          task\n",
       "23  1138151720971866                                  Matplotlib          task\n",
       "24  1138151720971883                             API Integration          task\n",
       "25  1138151720971868          Python Built-In Data Visualization          task\n",
       "26  1138151720971870                           Linear Regression          task\n",
       "27  1138151720971872            Decision Trees and Random Forest          task\n",
       "28  1138151720971874              Big Data and Spark with Python          task\n",
       "29  1137878513587357             Editing Resume and Cover Letter          task\n",
       "30  1137878513587358        Shortlisting companies for interview          task"
      ]
     },
     "execution_count": 68,
     "metadata": {},
     "output_type": "execute_result"
    }
   ],
   "source": [
    "tasks = pd.DataFrame(client.tasks.find_all({'project':projects.loc[0,'gid']}))\n",
    "tasks"
   ]
  },
  {
   "cell_type": "code",
   "execution_count": 75,
   "id": "dc98e307",
   "metadata": {},
   "outputs": [
    {
     "data": {
      "text/plain": [
       "31"
      ]
     },
     "execution_count": 75,
     "metadata": {},
     "output_type": "execute_result"
    }
   ],
   "source": [
    "len(tasks)"
   ]
  },
  {
   "cell_type": "code",
   "execution_count": 78,
   "id": "c78d6f3a",
   "metadata": {},
   "outputs": [],
   "source": [
    "subtasks = dict()\n",
    "# each task is reduced to a 'gid'\n",
    "for task in tasks['gid']:\n",
    "    # many tasks have no subtasks..\n",
    "    # if the task has subtasks, log them in subtasks under the task gid\n",
    "    if len(pd.DataFrame(client.tasks.subtasks(task))) > 0:\n",
    "        subtasks[task] = pd.DataFrame(client.tasks.subtasks(task))\n"
   ]
  },
  {
   "cell_type": "code",
   "execution_count": 80,
   "id": "72436aca",
   "metadata": {},
   "outputs": [
    {
     "data": {
      "text/plain": [
       "3"
      ]
     },
     "execution_count": 80,
     "metadata": {},
     "output_type": "execute_result"
    }
   ],
   "source": [
    "len(subtasks)"
   ]
  },
  {
   "cell_type": "code",
   "execution_count": 94,
   "id": "537c05aa",
   "metadata": {},
   "outputs": [],
   "source": [
    "task_ids = list(subtasks.keys()) # these are the tasks which have subtasks\n",
    "\n",
    "# dictionaries have .keys(), .values(), and .items() --> which create 'views' of the containing information.\n",
    "# use a list constructor to materialize them"
   ]
  },
  {
   "cell_type": "code",
   "execution_count": 95,
   "id": "dd7a08b8",
   "metadata": {},
   "outputs": [
    {
     "data": {
      "text/html": [
       "<div>\n",
       "<style scoped>\n",
       "    .dataframe tbody tr th:only-of-type {\n",
       "        vertical-align: middle;\n",
       "    }\n",
       "\n",
       "    .dataframe tbody tr th {\n",
       "        vertical-align: top;\n",
       "    }\n",
       "\n",
       "    .dataframe thead th {\n",
       "        text-align: right;\n",
       "    }\n",
       "</style>\n",
       "<table border=\"1\" class=\"dataframe\">\n",
       "  <thead>\n",
       "    <tr style=\"text-align: right;\">\n",
       "      <th></th>\n",
       "      <th>gid</th>\n",
       "      <th>name</th>\n",
       "      <th>resource_type</th>\n",
       "    </tr>\n",
       "  </thead>\n",
       "  <tbody>\n",
       "    <tr>\n",
       "      <th>0</th>\n",
       "      <td>1202490968141513</td>\n",
       "      <td>This is the sub task</td>\n",
       "      <td>task</td>\n",
       "    </tr>\n",
       "  </tbody>\n",
       "</table>\n",
       "</div>"
      ],
      "text/plain": [
       "                gid                  name resource_type\n",
       "0  1202490968141513  This is the sub task          task"
      ]
     },
     "execution_count": 95,
     "metadata": {},
     "output_type": "execute_result"
    }
   ],
   "source": [
    "subtasks[task_ids[0]]"
   ]
  },
  {
   "cell_type": "code",
   "execution_count": 144,
   "id": "06248ee8",
   "metadata": {},
   "outputs": [
    {
     "name": "stdout",
     "output_type": "stream",
     "text": [
      "Sample Task 123\n",
      "********\n",
      "previously created custom fields:\n",
      "Priority\n",
      "PA\n",
      "********\n",
      "current selected custom field for Priority: None\n",
      "custom_field options for Priority: ['High', 'Medium', 'Low']\n",
      "current selected custom field for PA: None\n",
      "custom_field options for PA: ['Vidharth1', 'Vidharth 2', 'Vidharth 3', 'Vidharth 4']\n"
     ]
    }
   ],
   "source": [
    "#client.tasks.update_task('1202490379325039',{'custom_fields':{'1202488848507240':'1202488848507244'}})\n",
    "\n",
    "custom_fields = dict()\n",
    "for task in tasks['gid'][:1]: # only the first task... they all have same custom fields?\n",
    "#     print(client.tasks.find_by_project(task))\n",
    "#     print(client.tasks.update_task(task))\n",
    "    json_payload = client.tasks.update_task(task)\n",
    "    #print(json_payload['custom_fields'])\n",
    "    print(json_payload['name'])\n",
    "    print('*' * 8)\n",
    "    print('previously created custom fields:')\n",
    "    [print(x['name']) for x in json_payload['custom_fields']]\n",
    "    print('*'*8)\n",
    "    for c_field in json_payload['custom_fields']:\n",
    "        #print(len(c_field))\n",
    "        print(f\"current selected custom field for {c_field['name']}: {c_field['enum_value']}\")\n",
    "        print(f\"custom_field options for {c_field['name']}: {[x['name'] for x in c_field['enum_options']]}\")\n",
    "\n",
    "        # a list comprehension:\n",
    "        # for each element in the list of dictionaries, index into the dictionary for the 'name' variable and print it."
   ]
  },
  {
   "cell_type": "markdown",
   "id": "0ca524a6",
   "metadata": {},
   "source": [
    "## Datetime Logic in Python"
   ]
  },
  {
   "cell_type": "code",
   "execution_count": 50,
   "id": "455075c3",
   "metadata": {},
   "outputs": [],
   "source": [
    "start_date = dt.datetime(2022, 1, 1)"
   ]
  },
  {
   "cell_type": "code",
   "execution_count": 51,
   "id": "925cc74f",
   "metadata": {},
   "outputs": [
    {
     "data": {
      "text/plain": [
       "1"
      ]
     },
     "execution_count": 51,
     "metadata": {},
     "output_type": "execute_result"
    }
   ],
   "source": [
    "start_date.month"
   ]
  },
  {
   "cell_type": "code",
   "execution_count": 52,
   "id": "53cce1e6",
   "metadata": {},
   "outputs": [
    {
     "data": {
      "text/plain": [
       "datetime.datetime(2022, 1, 8, 0, 0)"
      ]
     },
     "execution_count": 52,
     "metadata": {},
     "output_type": "execute_result"
    }
   ],
   "source": [
    "start_date + dt.timedelta(days=7)"
   ]
  },
  {
   "cell_type": "code",
   "execution_count": 53,
   "id": "26fc2ae3",
   "metadata": {},
   "outputs": [
    {
     "data": {
      "text/plain": [
       "[datetime.datetime(2022, 1, 1, 0, 0),\n",
       " datetime.datetime(2022, 1, 8, 0, 0),\n",
       " datetime.datetime(2022, 1, 15, 0, 0),\n",
       " datetime.datetime(2022, 1, 22, 0, 0),\n",
       " datetime.datetime(2022, 1, 29, 0, 0)]"
      ]
     },
     "execution_count": 53,
     "metadata": {},
     "output_type": "execute_result"
    }
   ],
   "source": [
    "week_start_1 = dt.datetime(2022, 1, 1)\n",
    "week_start_2 = week_start_1 + dt.timedelta(days=7)\n",
    "week_start_3 = week_start_1 + dt.timedelta(days=14)\n",
    "week_start_4 = week_start_1 + dt.timedelta(days=21)\n",
    "week_start_5 = week_start_1 + dt.timedelta(days=28)\n",
    "\n",
    "start_dates = [week_start_1,week_start_2,week_start_3,week_start_4,week_start_5]\n",
    "\n",
    "start_dates"
   ]
  },
  {
   "cell_type": "markdown",
   "id": "597445ea",
   "metadata": {},
   "source": [
    "# Constructing a dataframe"
   ]
  },
  {
   "cell_type": "code",
   "execution_count": 17,
   "id": "511c82ed",
   "metadata": {},
   "outputs": [],
   "source": [
    "# define PA lists \n",
    "MPA_Rijul = [\n",
    "  \"Ryan Ho\",\n",
    "  \"Samuel Nguyen\",\n",
    "  \"Achidi Kisob\",\n",
    "  \"Annika Kao\",\n",
    "  \"Gourav Kadian\",\n",
    "#  \"Suzanne Ma\",\n",
    " # \"Jasmine Nguyen\",\n",
    "  \"Jason Ho\",\n",
    "  \"Ula Sobieraj (UK)\",\n",
    "  \"Nick Assuras\",\n",
    "  \"Isfandyar Virani\",\n",
    "  \"Komal Bhuvanagiri\"]\n",
    "\n",
    "MPA_Jess = [\n",
    "  \"Angela Ye\",\n",
    "  \"Vincent Wong\",\n",
    "  \"Wendy Qian\",\n",
    "  \"Kevin Liu\",\n",
    " # \"Nicky Wu\",\n",
    "#  \"Nikita Borisov\",\n",
    "  \"Kexin Wang\",\n",
    "  \"Mo Heshmat\",\n",
    "  \"Rickey Chan\",\n",
    "  \"Ijlal Amir\",\n",
    "  \"James Scott\",\n",
    "  \"Andy Jeong\"]"
   ]
  },
  {
   "cell_type": "code",
   "execution_count": 230,
   "id": "808d819d",
   "metadata": {},
   "outputs": [
    {
     "ename": "NameError",
     "evalue": "name 'MPA_Rijul' is not defined",
     "output_type": "error",
     "traceback": [
      "\u001b[1;31m---------------------------------------------------------------------------\u001b[0m",
      "\u001b[1;31mNameError\u001b[0m                                 Traceback (most recent call last)",
      "Input \u001b[1;32mIn [230]\u001b[0m, in \u001b[0;36m<cell line: 5>\u001b[1;34m()\u001b[0m\n\u001b[0;32m      1\u001b[0m \u001b[38;5;66;03m# inter-leave the lists. im sure there's a better way to do this\u001b[39;00m\n\u001b[0;32m      2\u001b[0m \n\u001b[0;32m      3\u001b[0m \u001b[38;5;66;03m# .append() **modifies the list without assignment**\u001b[39;00m\n\u001b[0;32m      4\u001b[0m lst \u001b[38;5;241m=\u001b[39m []\n\u001b[1;32m----> 5\u001b[0m \u001b[38;5;28;01mfor\u001b[39;00m i \u001b[38;5;129;01min\u001b[39;00m \u001b[38;5;28mrange\u001b[39m(\u001b[38;5;28mmax\u001b[39m(\u001b[38;5;28mlen\u001b[39m(\u001b[43mMPA_Rijul\u001b[49m), \u001b[38;5;28mlen\u001b[39m(MPA_Jess))):\n\u001b[0;32m      6\u001b[0m     lst\u001b[38;5;241m.\u001b[39mappend(MPA_Rijul[i])\n\u001b[0;32m      7\u001b[0m     lst\u001b[38;5;241m.\u001b[39mappend(MPA_Jess[i])\n",
      "\u001b[1;31mNameError\u001b[0m: name 'MPA_Rijul' is not defined"
     ]
    }
   ],
   "source": [
    "# inter-leave the lists. im sure there's a better way to do this\n",
    "\n",
    "# .append() **modifies the list without assignment**\n",
    "lst = []\n",
    "for i in range(max(len(MPA_Rijul), len(MPA_Jess))):\n",
    "    lst.append(MPA_Rijul[i])\n",
    "    lst.append(MPA_Jess[i])\n",
    "lst"
   ]
  },
  {
   "cell_type": "code",
   "execution_count": 50,
   "id": "82936f66",
   "metadata": {},
   "outputs": [],
   "source": [
    "import pandas as pd\n",
    "\n",
    "df = pd.DataFrame(columns=['Week 1', 'Week 2'], \n",
    "                 index = lst)"
   ]
  },
  {
   "cell_type": "code",
   "execution_count": 53,
   "id": "b9daa055",
   "metadata": {},
   "outputs": [
    {
     "data": {
      "text/html": [
       "<div>\n",
       "<style scoped>\n",
       "    .dataframe tbody tr th:only-of-type {\n",
       "        vertical-align: middle;\n",
       "    }\n",
       "\n",
       "    .dataframe tbody tr th {\n",
       "        vertical-align: top;\n",
       "    }\n",
       "\n",
       "    .dataframe thead th {\n",
       "        text-align: right;\n",
       "    }\n",
       "</style>\n",
       "<table border=\"1\" class=\"dataframe\">\n",
       "  <thead>\n",
       "    <tr style=\"text-align: right;\">\n",
       "      <th></th>\n",
       "      <th>Week 1</th>\n",
       "      <th>Week 2</th>\n",
       "    </tr>\n",
       "  </thead>\n",
       "  <tbody>\n",
       "    <tr>\n",
       "      <th>Ryan Ho</th>\n",
       "      <td>Reserved for Spencer</td>\n",
       "      <td>Reserved for Spencer Week 2</td>\n",
       "    </tr>\n",
       "    <tr>\n",
       "      <th>Angela Ye</th>\n",
       "      <td>NaN</td>\n",
       "      <td>NaN</td>\n",
       "    </tr>\n",
       "    <tr>\n",
       "      <th>Samuel Nguyen</th>\n",
       "      <td>Reserved for Spencer</td>\n",
       "      <td>Reserved for Spencer Week 2</td>\n",
       "    </tr>\n",
       "    <tr>\n",
       "      <th>Vincent Wong</th>\n",
       "      <td>NaN</td>\n",
       "      <td>NaN</td>\n",
       "    </tr>\n",
       "    <tr>\n",
       "      <th>Achidi Kisob</th>\n",
       "      <td>Reserved for Spencer</td>\n",
       "      <td>Reserved for Spencer Week 2</td>\n",
       "    </tr>\n",
       "    <tr>\n",
       "      <th>Wendy Qian</th>\n",
       "      <td>NaN</td>\n",
       "      <td>NaN</td>\n",
       "    </tr>\n",
       "    <tr>\n",
       "      <th>Annika Kao</th>\n",
       "      <td>Reserved for Spencer</td>\n",
       "      <td>Reserved for Spencer Week 2</td>\n",
       "    </tr>\n",
       "    <tr>\n",
       "      <th>Kevin Liu</th>\n",
       "      <td>NaN</td>\n",
       "      <td>NaN</td>\n",
       "    </tr>\n",
       "    <tr>\n",
       "      <th>Gourav Kadian</th>\n",
       "      <td>Reserved for Spencer</td>\n",
       "      <td>Reserved for Spencer Week 2</td>\n",
       "    </tr>\n",
       "    <tr>\n",
       "      <th>Kexin Wang</th>\n",
       "      <td>NaN</td>\n",
       "      <td>NaN</td>\n",
       "    </tr>\n",
       "    <tr>\n",
       "      <th>Jason Ho</th>\n",
       "      <td>Reserved for Spencer</td>\n",
       "      <td>Reserved for Spencer Week 2</td>\n",
       "    </tr>\n",
       "    <tr>\n",
       "      <th>Mo Heshmat</th>\n",
       "      <td>NaN</td>\n",
       "      <td>NaN</td>\n",
       "    </tr>\n",
       "    <tr>\n",
       "      <th>Ula Sobieraj (UK)</th>\n",
       "      <td>Reserved for Spencer</td>\n",
       "      <td>Reserved for Spencer Week 2</td>\n",
       "    </tr>\n",
       "    <tr>\n",
       "      <th>Rickey Chan</th>\n",
       "      <td>NaN</td>\n",
       "      <td>NaN</td>\n",
       "    </tr>\n",
       "    <tr>\n",
       "      <th>Nick Assuras</th>\n",
       "      <td>Reserved for Spencer</td>\n",
       "      <td>Reserved for Spencer Week 2</td>\n",
       "    </tr>\n",
       "    <tr>\n",
       "      <th>Ijlal Amir</th>\n",
       "      <td>NaN</td>\n",
       "      <td>NaN</td>\n",
       "    </tr>\n",
       "    <tr>\n",
       "      <th>Isfandyar Virani</th>\n",
       "      <td>Reserved for Spencer</td>\n",
       "      <td>Reserved for Spencer Week 2</td>\n",
       "    </tr>\n",
       "    <tr>\n",
       "      <th>James Scott</th>\n",
       "      <td>NaN</td>\n",
       "      <td>NaN</td>\n",
       "    </tr>\n",
       "    <tr>\n",
       "      <th>Komal Bhuvanagiri</th>\n",
       "      <td>Reserved for Spencer</td>\n",
       "      <td>Reserved for Spencer Week 2</td>\n",
       "    </tr>\n",
       "    <tr>\n",
       "      <th>Andy Jeong</th>\n",
       "      <td>NaN</td>\n",
       "      <td>NaN</td>\n",
       "    </tr>\n",
       "  </tbody>\n",
       "</table>\n",
       "</div>"
      ],
      "text/plain": [
       "                                 Week 1                       Week 2\n",
       "Ryan Ho            Reserved for Spencer  Reserved for Spencer Week 2\n",
       "Angela Ye                           NaN                          NaN\n",
       "Samuel Nguyen      Reserved for Spencer  Reserved for Spencer Week 2\n",
       "Vincent Wong                        NaN                          NaN\n",
       "Achidi Kisob       Reserved for Spencer  Reserved for Spencer Week 2\n",
       "Wendy Qian                          NaN                          NaN\n",
       "Annika Kao         Reserved for Spencer  Reserved for Spencer Week 2\n",
       "Kevin Liu                           NaN                          NaN\n",
       "Gourav Kadian      Reserved for Spencer  Reserved for Spencer Week 2\n",
       "Kexin Wang                          NaN                          NaN\n",
       "Jason Ho           Reserved for Spencer  Reserved for Spencer Week 2\n",
       "Mo Heshmat                          NaN                          NaN\n",
       "Ula Sobieraj (UK)  Reserved for Spencer  Reserved for Spencer Week 2\n",
       "Rickey Chan                         NaN                          NaN\n",
       "Nick Assuras       Reserved for Spencer  Reserved for Spencer Week 2\n",
       "Ijlal Amir                          NaN                          NaN\n",
       "Isfandyar Virani   Reserved for Spencer  Reserved for Spencer Week 2\n",
       "James Scott                         NaN                          NaN\n",
       "Komal Bhuvanagiri  Reserved for Spencer  Reserved for Spencer Week 2\n",
       "Andy Jeong                          NaN                          NaN"
      ]
     },
     "execution_count": 53,
     "metadata": {},
     "output_type": "execute_result"
    }
   ],
   "source": [
    "df"
   ]
  },
  {
   "cell_type": "code",
   "execution_count": 56,
   "id": "933ead71",
   "metadata": {},
   "outputs": [
    {
     "data": {
      "text/html": [
       "<div>\n",
       "<style scoped>\n",
       "    .dataframe tbody tr th:only-of-type {\n",
       "        vertical-align: middle;\n",
       "    }\n",
       "\n",
       "    .dataframe tbody tr th {\n",
       "        vertical-align: top;\n",
       "    }\n",
       "\n",
       "    .dataframe thead th {\n",
       "        text-align: right;\n",
       "    }\n",
       "</style>\n",
       "<table border=\"1\" class=\"dataframe\">\n",
       "  <thead>\n",
       "    <tr style=\"text-align: right;\">\n",
       "      <th></th>\n",
       "      <th>Week 1</th>\n",
       "      <th>Week 2</th>\n",
       "    </tr>\n",
       "  </thead>\n",
       "  <tbody>\n",
       "    <tr>\n",
       "      <th>Ryan Ho</th>\n",
       "      <td>Reserved for Spencer</td>\n",
       "      <td>Reserved for Spencer Week 2</td>\n",
       "    </tr>\n",
       "    <tr>\n",
       "      <th>Angela Ye</th>\n",
       "      <td>Reserved for Lu</td>\n",
       "      <td>Reserved for Lu Week 2</td>\n",
       "    </tr>\n",
       "    <tr>\n",
       "      <th>Samuel Nguyen</th>\n",
       "      <td>Reserved for Spencer</td>\n",
       "      <td>Reserved for Spencer Week 2</td>\n",
       "    </tr>\n",
       "    <tr>\n",
       "      <th>Vincent Wong</th>\n",
       "      <td>Reserved for Lu</td>\n",
       "      <td>Reserved for Lu Week 2</td>\n",
       "    </tr>\n",
       "    <tr>\n",
       "      <th>Achidi Kisob</th>\n",
       "      <td>Reserved for Spencer</td>\n",
       "      <td>Reserved for Spencer Week 2</td>\n",
       "    </tr>\n",
       "    <tr>\n",
       "      <th>Wendy Qian</th>\n",
       "      <td>Reserved for Lu</td>\n",
       "      <td>Reserved for Lu Week 2</td>\n",
       "    </tr>\n",
       "    <tr>\n",
       "      <th>Annika Kao</th>\n",
       "      <td>Reserved for Spencer</td>\n",
       "      <td>Reserved for Spencer Week 2</td>\n",
       "    </tr>\n",
       "    <tr>\n",
       "      <th>Kevin Liu</th>\n",
       "      <td>Reserved for Lu</td>\n",
       "      <td>Reserved for Lu Week 2</td>\n",
       "    </tr>\n",
       "    <tr>\n",
       "      <th>Gourav Kadian</th>\n",
       "      <td>Reserved for Spencer</td>\n",
       "      <td>Reserved for Spencer Week 2</td>\n",
       "    </tr>\n",
       "    <tr>\n",
       "      <th>Kexin Wang</th>\n",
       "      <td>Reserved for Lu</td>\n",
       "      <td>Reserved for Lu Week 2</td>\n",
       "    </tr>\n",
       "    <tr>\n",
       "      <th>Jason Ho</th>\n",
       "      <td>Reserved for Spencer</td>\n",
       "      <td>Reserved for Spencer Week 2</td>\n",
       "    </tr>\n",
       "    <tr>\n",
       "      <th>Mo Heshmat</th>\n",
       "      <td>Reserved for Lu</td>\n",
       "      <td>Reserved for Lu Week 2</td>\n",
       "    </tr>\n",
       "    <tr>\n",
       "      <th>Ula Sobieraj (UK)</th>\n",
       "      <td>Reserved for Spencer</td>\n",
       "      <td>Reserved for Spencer Week 2</td>\n",
       "    </tr>\n",
       "    <tr>\n",
       "      <th>Rickey Chan</th>\n",
       "      <td>Reserved for Lu</td>\n",
       "      <td>Reserved for Lu Week 2</td>\n",
       "    </tr>\n",
       "    <tr>\n",
       "      <th>Nick Assuras</th>\n",
       "      <td>Reserved for Spencer</td>\n",
       "      <td>Reserved for Spencer Week 2</td>\n",
       "    </tr>\n",
       "    <tr>\n",
       "      <th>Ijlal Amir</th>\n",
       "      <td>Reserved for Lu</td>\n",
       "      <td>Reserved for Lu Week 2</td>\n",
       "    </tr>\n",
       "    <tr>\n",
       "      <th>Isfandyar Virani</th>\n",
       "      <td>Reserved for Spencer</td>\n",
       "      <td>Reserved for Spencer Week 2</td>\n",
       "    </tr>\n",
       "    <tr>\n",
       "      <th>James Scott</th>\n",
       "      <td>Reserved for Lu</td>\n",
       "      <td>Reserved for Lu Week 2</td>\n",
       "    </tr>\n",
       "    <tr>\n",
       "      <th>Komal Bhuvanagiri</th>\n",
       "      <td>Reserved for Spencer</td>\n",
       "      <td>Reserved for Spencer Week 2</td>\n",
       "    </tr>\n",
       "    <tr>\n",
       "      <th>Andy Jeong</th>\n",
       "      <td>Reserved for Lu</td>\n",
       "      <td>Reserved for Lu Week 2</td>\n",
       "    </tr>\n",
       "  </tbody>\n",
       "</table>\n",
       "</div>"
      ],
      "text/plain": [
       "                                 Week 1                       Week 2\n",
       "Ryan Ho            Reserved for Spencer  Reserved for Spencer Week 2\n",
       "Angela Ye               Reserved for Lu       Reserved for Lu Week 2\n",
       "Samuel Nguyen      Reserved for Spencer  Reserved for Spencer Week 2\n",
       "Vincent Wong            Reserved for Lu       Reserved for Lu Week 2\n",
       "Achidi Kisob       Reserved for Spencer  Reserved for Spencer Week 2\n",
       "Wendy Qian              Reserved for Lu       Reserved for Lu Week 2\n",
       "Annika Kao         Reserved for Spencer  Reserved for Spencer Week 2\n",
       "Kevin Liu               Reserved for Lu       Reserved for Lu Week 2\n",
       "Gourav Kadian      Reserved for Spencer  Reserved for Spencer Week 2\n",
       "Kexin Wang              Reserved for Lu       Reserved for Lu Week 2\n",
       "Jason Ho           Reserved for Spencer  Reserved for Spencer Week 2\n",
       "Mo Heshmat              Reserved for Lu       Reserved for Lu Week 2\n",
       "Ula Sobieraj (UK)  Reserved for Spencer  Reserved for Spencer Week 2\n",
       "Rickey Chan             Reserved for Lu       Reserved for Lu Week 2\n",
       "Nick Assuras       Reserved for Spencer  Reserved for Spencer Week 2\n",
       "Ijlal Amir              Reserved for Lu       Reserved for Lu Week 2\n",
       "Isfandyar Virani   Reserved for Spencer  Reserved for Spencer Week 2\n",
       "James Scott             Reserved for Lu       Reserved for Lu Week 2\n",
       "Komal Bhuvanagiri  Reserved for Spencer  Reserved for Spencer Week 2\n",
       "Andy Jeong              Reserved for Lu       Reserved for Lu Week 2"
      ]
     },
     "execution_count": 56,
     "metadata": {},
     "output_type": "execute_result"
    }
   ],
   "source": [
    "for idx, i in enumerate(df.iterrows()):\n",
    "    if idx%2==0:\n",
    "        #print('evens for spencer')\n",
    "        df.loc[i[0], 'Week 1'] = 'Reserved for Spencer'\n",
    "        df.loc[i[0], 'Week 2'] = 'Reserved for Spencer Week 2'\n",
    "    else:\n",
    "        #print('odds for lu?')\n",
    "        df.loc[i[0], 'Week 1'] = 'Reserved for Lu'\n",
    "        df.loc[i[0], 'Week 2'] = 'Reserved for Lu Week 2'\n",
    "        \n",
    "df"
   ]
  },
  {
   "cell_type": "markdown",
   "id": "06552f67",
   "metadata": {},
   "source": [
    "# R Code"
   ]
  },
  {
   "cell_type": "code",
   "execution_count": null,
   "id": "19283c8e",
   "metadata": {},
   "outputs": [],
   "source": [
    "# line 83 -- how many PA's are available (#'open' tasks to be created?)\n",
    "available_PAs = len(MPA_Rijul) + len(MPA_Jess)\n",
    "task_names = pd.Dataframe(columns=['Week 1', 'Week 2'])\n",
    "\n",
    "\n",
    "\n",
    "for i in available_PAs:\n",
    "# even or odd? \n",
    "    if i % 2 == 0: \n",
    "        am_lead = 'Spencer'\n",
    "    else:\n",
    "\tam_lead = 'Lu'\n",
    "    assignee = available_PAs.pop(0) \n",
    "# pop the next available PA? could interweave the PA list to fit this idea.\n",
    "# this iteration method is dependent on the numbers of PAs available being more for Rijul than for Jess(?)\n",
    "# append week 1 and week 2 tasks for the appropriate PA and AM team lead.\n",
    "    week1 = f'- Open for {team_lead}'\n",
    "    weeek2 = f'- Open for {team_lead} - Week 2'\n",
    "    task_names.loc[i, 'Week 1'] = week1\n",
    "    task_names.loc[i, 'Week 2'] = week2\n",
    "\n",
    "# Line 97 -- post-quarter reports? \n",
    "# if there are 3 days of the week in month x and only 2 in month y, month x takes precedence. \n",
    "# take start date, add 2 days (if it was monday, this would make it wednesday -- if it was tuesday, this would make it thursday)\n",
    "\n",
    "# dt.datetime.month(start_date)\n",
    "if dt.month(start_date)(?) in [1,4,7,10]:\n",
    "    task_names = 'OPEN'\n",
    "\n",
    "# Line 100\n",
    "# if the week is a start week.. paste the tuples of PA's and task values (either Lu or Spencer availabity) as a column in the dataframe, task_names?\n",
    "\n",
    "# Line 107\n",
    "#getting subtasks from a sample SBR task\n",
    "sbr_subtasks <- asana::asn_tasks_subtasks(project= project_id, task = 1201553895976477) \n",
    "# does this generate the task on asana itself, or simply hold the json object in our memory?\n",
    "k=1\n",
    "for (k in 1:n_tasks ) {\n",
    "create_task <- asana::asn_tasks_create(projects=project_id, \n",
    "                                       name= task_names[k,1],\n",
    "                                       start_on = start_date,\n",
    "                                       due_on = end_date\n",
    "                                       )\n",
    "# this looping to index back into dataframe would be better accomplished by simply generating some tuples -- PA Name, AM Team Lead?\n",
    "\n",
    "#Step 2: Adding Subtasks\n",
    "task_id<-create_task$content$data[[1]]\n",
    "\n",
    "\n",
    "# line 124 -- seemingly incomplete loop? we're looping to create a due date and a chat date, but not using it when we call\n",
    "asana.asn_tasks_add_substask(task=task_id, name=sbr_subtasks$name[i])\n",
    "\n",
    "# line 133 -- add additional subtasks to the task for each available PA\n",
    "asn_tasks_add_subtask(task = task_id, name = \"PA > Add Mapping File to Google Drive\" , due_on = start_date)\n",
    "asn_tasks_add_subtask(task = task_id, name = \"AM > PPT Online Link\" , due_on = start_date)\n",
    "asn_tasks_add_subtask(task = task_id, name = \"PA > Data Pull\" , due_on = start_date)\n",
    "asn_tasks_add_subtask(task = task_id, name = \"PA > Initiate Slack Chat\" , due_on = initiate_chat_date)\n",
    "asn_tasks_add_subtask(task = task_id, name = \"AM > Confirm SBR with Client\", due_on = due_date)"
   ]
  },
  {
   "cell_type": "code",
   "execution_count": null,
   "id": "5a7e1a13",
   "metadata": {},
   "outputs": [],
   "source": [
    "# load modules\n",
    "import sys\n",
    "import datetime as dt\n",
    "import numpy as np\n",
    "import pandas as pd\n",
    "import asana\n",
    "import SQL CONNECTOR (yet to be found)\n",
    "\n",
    "# line 19 get username (sysname)\n",
    "sysname = sys.info()[7] \n",
    "{LOAD AUTHENTICATION TOKEN INTO GLOBAL NAMESPACE}\n",
    "\n",
    "\n",
    "# line 22 identifying json objects\n",
    "all_workspaces = asana.asn_workspaces_find_all()\n",
    "all_projects = asana.asn_projects_find_all()\n",
    "\n",
    "project_id = all_projects['name']['SBR Plan'][1](? the project_id field)\n",
    "all_sections = asana.asn_sections_find_by_project(project=project_id)\n",
    "\n",
    "# line 29 - find Open section where tasks need to be created\n",
    "section_id = all_sections['all_sections']['Open'][1] (? the 'Open' section {section_id})\n",
    "# generate week datetime objects (mondays)\n",
    "\n",
    "# line 36 set start date and end date\n",
    "start_date  = week_start_2\n",
    "end_date = week_start_2 + dt.datetime...4 days"
   ]
  }
 ],
 "metadata": {
  "kernelspec": {
   "display_name": "Python 3 (ipykernel)",
   "language": "python",
   "name": "python3"
  },
  "language_info": {
   "codemirror_mode": {
    "name": "ipython",
    "version": 3
   },
   "file_extension": ".py",
   "mimetype": "text/x-python",
   "name": "python",
   "nbconvert_exporter": "python",
   "pygments_lexer": "ipython3",
   "version": "3.9.12"
  }
 },
 "nbformat": 4,
 "nbformat_minor": 5
}
