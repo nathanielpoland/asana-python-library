{
 "cells": [
  {
   "cell_type": "code",
   "execution_count": 1,
   "id": "3f8ba998-a0ca-4bad-964f-30778fb6804f",
   "metadata": {},
   "outputs": [],
   "source": [
    "import pandas as pd #importing for creating database(table) on json object\n",
    "import requests #importing for testing APIs\n",
    "import json #reading or converting to json object\n",
    "#asana is the python library design on MIT license to interact with asana APIs.\n",
    "#You can find more detail documents related to the class and \\\n",
    "#func of this library on https://github.com/Asana/python-asana\n",
    "import asana \n",
    "from six import print_ #makes things look pretty"
   ]
  },
  {
   "cell_type": "code",
   "execution_count": 2,
   "id": "6744f978-772c-4b5d-ab3f-0021fa7be791",
   "metadata": {},
   "outputs": [],
   "source": [
    "#To access asana params of your account you need to create your app with unique token to access the APIs.\n",
    "#Visit this link https://app.asana.com/0/my-apps to register your application.\n",
    "#And you should receive token as below.\n",
    "client = asana.Client.access_token('1/1137878878147075:1c4f308eeb3a96eed280a4ca89d2aec1')"
   ]
  },
  {
   "cell_type": "code",
   "execution_count": 3,
   "id": "7b7b7d2d-73a1-4f37-a25f-20ad5882b330",
   "metadata": {},
   "outputs": [
    {
     "data": {
      "text/plain": [
       "[{'gid': '1137879660321707',\n",
       "  'name': 'Data Scienctist',\n",
       "  'resource_type': 'workspace'}]"
      ]
     },
     "execution_count": 3,
     "metadata": {},
     "output_type": "execute_result"
    }
   ],
   "source": [
    "#using client you can access and update any param of your asana account.\n",
    "workspaces = client.workspaces.find_all() \n",
    "#this code will create an generator to read the generator we need to cast it to list.\n",
    "list(workspaces)"
   ]
  },
  {
   "cell_type": "code",
   "execution_count": 4,
   "id": "de29a60d-2341-47e5-9e86-a95665171983",
   "metadata": {},
   "outputs": [
    {
     "data": {
      "text/plain": [
       "[{'gid': '1137878513587348',\n",
       "  'name': 'Data Science',\n",
       "  'resource_type': 'project'},\n",
       " {'gid': '1199359221874309',\n",
       "  'name': 'Business Chain System',\n",
       "  'resource_type': 'project'}]"
      ]
     },
     "execution_count": 4,
     "metadata": {},
     "output_type": "execute_result"
    }
   ],
   "source": [
    "#reading through the projects.\n",
    "projects = client.projects.find_all({'workspace':'1137879660321707'})\n",
    "list(projects)"
   ]
  },
  {
   "cell_type": "code",
   "execution_count": 5,
   "id": "a18deb3e-f22b-4854-8268-7df40ddf964f",
   "metadata": {},
   "outputs": [],
   "source": [
    "def extract_gid(of_param,name):\n",
    "    '''\n",
    "    ***Note: The Function is in Developement Phase***\n",
    "    ***Contact Vidyarath OR Nathan for any Changes***\n",
    "    Docstring:\n",
    "    A specific, existing Param(workspaces,projects,tasks,subtasks) gid can be pulled \n",
    "    by making a GET request on the URL.\n",
    "    When using this method, it is best to specify only name of param(workspaces,projects,tasks,subtasks)\n",
    "    you want to access.\n",
    "\n",
    "    Returns list of Id.\n",
    "\n",
    "    Parameters\n",
    "    ----------\n",
    "    of_param : String either of [workspaces,projects, tasks, sections].\n",
    "    name: Exact name of the param of which you want ID [String]\n",
    "    '''\n",
    "    param_json = {}\n",
    "    gid_list = []\n",
    "    param_lst = list(of_param) #reading through generator\n",
    "    for i, v in enumerate(param_lst):\n",
    "        print(i,v)\n",
    "        param_json.update(v)\n",
    "    if param_json['name'] == name:\n",
    "        gid_list.append(param_json['gid'])\n",
    "    return gid_list, param_json, param_lst"
   ]
  },
  {
   "cell_type": "code",
   "execution_count": 6,
   "id": "10fe928c-167b-4446-82a3-085829192fcd",
   "metadata": {},
   "outputs": [
    {
     "name": "stdout",
     "output_type": "stream",
     "text": [
      "0 {'gid': '1137879660321707', 'name': 'Data Scienctist', 'resource_type': 'workspace'}\n"
     ]
    }
   ],
   "source": [
    "workspaces = client.workspaces.find_all() \n",
    "workspace = extract_gid(workspaces,name='Data Scienctist')"
   ]
  },
  {
   "cell_type": "code",
   "execution_count": 7,
   "id": "7886d37a-c6a5-49c8-bddd-ca9ce47f8c9f",
   "metadata": {},
   "outputs": [
    {
     "name": "stdout",
     "output_type": "stream",
     "text": [
      "0 {'gid': '1137878513587348', 'name': 'Data Science', 'resource_type': 'project'}\n",
      "1 {'gid': '1199359221874309', 'name': 'Business Chain System', 'resource_type': 'project'}\n"
     ]
    },
    {
     "data": {
      "text/plain": [
       "([],\n",
       " {'gid': '1199359221874309',\n",
       "  'name': 'Business Chain System',\n",
       "  'resource_type': 'project'},\n",
       " [{'gid': '1137878513587348',\n",
       "   'name': 'Data Science',\n",
       "   'resource_type': 'project'},\n",
       "  {'gid': '1199359221874309',\n",
       "   'name': 'Business Chain System',\n",
       "   'resource_type': 'project'}])"
      ]
     },
     "execution_count": 7,
     "metadata": {},
     "output_type": "execute_result"
    }
   ],
   "source": [
    "#ERROR loop needs fix with array of multiple indexes.\n",
    "projects = client.projects.find_all({'workspace': workspace[0]})\n",
    "extract_gid(projects,name='Data Science')"
   ]
  },
  {
   "cell_type": "code",
   "execution_count": 8,
   "id": "6ebeae58-83cd-4f34-8dad-09eabb91b088",
   "metadata": {},
   "outputs": [],
   "source": [
    "#sections are the part of the projects\n",
    "sections = client.sections.find_by_project(1137878513587348)"
   ]
  },
  {
   "cell_type": "code",
   "execution_count": 9,
   "id": "9261503e-8ad9-486b-acce-1e86bb02053f",
   "metadata": {},
   "outputs": [
    {
     "data": {
      "text/plain": [
       "[{'gid': '1137878513587350', 'name': 'Planning:', 'resource_type': 'section'},\n",
       " {'gid': '1137878513587360', 'name': 'Projects:', 'resource_type': 'section'},\n",
       " {'gid': '1138151720971849', 'name': 'Timeline', 'resource_type': 'section'},\n",
       " {'gid': '1137878513587361',\n",
       "  'name': 'Interview Process:',\n",
       "  'resource_type': 'section'}]"
      ]
     },
     "execution_count": 9,
     "metadata": {},
     "output_type": "execute_result"
    }
   ],
   "source": [
    "list(sections)"
   ]
  },
  {
   "cell_type": "code",
   "execution_count": 10,
   "id": "f1956f70-51d4-4a9b-9d96-99ac14f5f142",
   "metadata": {},
   "outputs": [
    {
     "ename": "NameError",
     "evalue": "name 'workspace_d' is not defined",
     "output_type": "error",
     "traceback": [
      "\u001b[0;31m---------------------------------------------------------------------------\u001b[0m",
      "\u001b[0;31mNameError\u001b[0m                                 Traceback (most recent call last)",
      "Input \u001b[0;32mIn [10]\u001b[0m, in \u001b[0;36m<cell line: 3>\u001b[0;34m()\u001b[0m\n\u001b[1;32m      1\u001b[0m \u001b[38;5;66;03m# using asana library you can access or update any parameter \u001b[39;00m\n\u001b[1;32m      2\u001b[0m \u001b[38;5;66;03m# this library is specifically designed over APIs of the asana\u001b[39;00m\n\u001b[0;32m----> 3\u001b[0m client\u001b[38;5;241m.\u001b[39muser_task_lists\u001b[38;5;241m.\u001b[39mfind_by_user(\u001b[38;5;124m'\u001b[39m\u001b[38;5;124mme\u001b[39m\u001b[38;5;124m'\u001b[39m,{\u001b[38;5;124m'\u001b[39m\u001b[38;5;124mworkspace\u001b[39m\u001b[38;5;124m'\u001b[39m:\u001b[43mworkspace_d\u001b[49m[\u001b[38;5;124m'\u001b[39m\u001b[38;5;124mgid\u001b[39m\u001b[38;5;124m'\u001b[39m]})\n",
      "\u001b[0;31mNameError\u001b[0m: name 'workspace_d' is not defined"
     ]
    }
   ],
   "source": [
    "# using asana library you can access or update any parameter \n",
    "# this library is specifically designed over APIs of the asana\n",
    "client.user_task_lists.find_by_user('me',{'workspace':workspace_d['gid']})"
   ]
  },
  {
   "cell_type": "code",
   "execution_count": 11,
   "id": "c67aa3f5-dde2-447b-8632-29d103c54df4",
   "metadata": {
    "scrolled": true,
    "tags": []
   },
   "outputs": [
    {
     "data": {
      "text/plain": [
       "[{'gid': '1202495095731272',\n",
       "  'name': 'Sample Task 123',\n",
       "  'resource_type': 'task'},\n",
       " {'gid': '1202495147346591',\n",
       "  'name': 'Sample Task 123',\n",
       "  'resource_type': 'task'},\n",
       " {'gid': '1202490379325039',\n",
       "  'name': 'Learn to use Nunchucks',\n",
       "  'resource_type': 'task'},\n",
       " {'gid': '1142949942959153',\n",
       "  'name': 'Hacker Rank Practise ',\n",
       "  'resource_type': 'task'},\n",
       " {'gid': '1142949942959148',\n",
       "  'name': 'Google Analytics',\n",
       "  'resource_type': 'task'},\n",
       " {'gid': '1142949942935142', 'name': 'PowerBi', 'resource_type': 'task'},\n",
       " {'gid': '1142949942935141', 'name': 'Tableau', 'resource_type': 'task'},\n",
       " {'gid': '1139930058974902',\n",
       "  'name': 'Logistic Regression',\n",
       "  'resource_type': 'task'},\n",
       " {'gid': '1139930058974897', 'name': 'Seaborn', 'resource_type': 'task'},\n",
       " {'gid': '1138259424919954',\n",
       "  'name': 'Create Google Analytics Dashboard',\n",
       "  'resource_type': 'task'},\n",
       " {'gid': '1137878513587351',\n",
       "  'name': 'Step 1: Learn SQL + DataScience Basics',\n",
       "  'resource_type': 'task'},\n",
       " {'gid': '1137878513587354',\n",
       "  'name': 'Step 2: Learn Python + DataScience Basics',\n",
       "  'resource_type': 'task'},\n",
       " {'gid': '1138259424919957',\n",
       "  'name': 'Explore BigQuery',\n",
       "  'resource_type': 'task'},\n",
       " {'gid': '1138259424919955',\n",
       "  'name': 'Crete Tableau dashboard',\n",
       "  'resource_type': 'task'},\n",
       " {'gid': '1138259424919956',\n",
       "  'name': 'Create Power BI dashboard',\n",
       "  'resource_type': 'task'},\n",
       " {'gid': '1138151720971850',\n",
       "  'name': 'Indexing and Hashing',\n",
       "  'resource_type': 'task'},\n",
       " {'gid': '1138151720971852',\n",
       "  'name': 'Query Processing',\n",
       "  'resource_type': 'task'},\n",
       " {'gid': '1138151720971854',\n",
       "  'name': 'Query Optimization',\n",
       "  'resource_type': 'task'},\n",
       " {'gid': '1138151720971856', 'name': 'XML', 'resource_type': 'task'},\n",
       " {'gid': '1138151720971858',\n",
       "  'name': 'Advance Querying and Information Retrieval',\n",
       "  'resource_type': 'task'},\n",
       " {'gid': '1138151720971860',\n",
       "  'name': 'Advance Data Type nad New Application',\n",
       "  'resource_type': 'task'},\n",
       " {'gid': '1138151720971862', 'name': 'NumPy', 'resource_type': 'task'},\n",
       " {'gid': '1138151720971864', 'name': 'Pandas', 'resource_type': 'task'},\n",
       " {'gid': '1138151720971866', 'name': 'Matplotlib', 'resource_type': 'task'},\n",
       " {'gid': '1138151720971883',\n",
       "  'name': 'API Integration',\n",
       "  'resource_type': 'task'},\n",
       " {'gid': '1138151720971868',\n",
       "  'name': 'Python Built-In Data Visualization',\n",
       "  'resource_type': 'task'},\n",
       " {'gid': '1138151720971870',\n",
       "  'name': 'Linear Regression',\n",
       "  'resource_type': 'task'},\n",
       " {'gid': '1138151720971872',\n",
       "  'name': 'Decision Trees and Random Forest',\n",
       "  'resource_type': 'task'},\n",
       " {'gid': '1138151720971874',\n",
       "  'name': 'Big Data and Spark with Python',\n",
       "  'resource_type': 'task'},\n",
       " {'gid': '1137878513587357',\n",
       "  'name': 'Editing Resume and Cover Letter',\n",
       "  'resource_type': 'task'},\n",
       " {'gid': '1137878513587358',\n",
       "  'name': 'Shortlisting companies for interview',\n",
       "  'resource_type': 'task'}]"
      ]
     },
     "execution_count": 11,
     "metadata": {},
     "output_type": "execute_result"
    }
   ],
   "source": [
    "#listing out the tasks is simple and straight forward.\n",
    "#we only need project id of which the task is associated with.\n",
    "tasks = client.tasks.find_all({'project':'1137878513587348'})\n",
    "list(tasks)"
   ]
  },
  {
   "cell_type": "code",
   "execution_count": 12,
   "id": "ec5f71c8-6bb9-4ab3-9736-aeea8b246447",
   "metadata": {
    "scrolled": true,
    "tags": []
   },
   "outputs": [
    {
     "name": "stderr",
     "output_type": "stream",
     "text": [
      "/Users/vidyarath.kate/opt/anaconda3/lib/python3.9/site-packages/asana/client.py:157: UserWarning: This request is affected by the \"new_project_templates\" deprecation. Please visit this url for more info: https://forum.asana.com/t/a-new-api-for-project-templates/156432\n",
      "Adding \"new_project_templates\" to your \"Asana-Enable\" or \"Asana-Disable\" header will opt in/out to this deprecation and suppress this warning.\n",
      "  warnings.warn(message)\n",
      "/Users/vidyarath.kate/opt/anaconda3/lib/python3.9/site-packages/asana/client.py:157: UserWarning: This request is affected by the \"new_user_task_lists\" deprecation. Please visit this url for more info: https://forum.asana.com/t/update-on-our-planned-api-changes-to-user-task-lists-a-k-a-my-tasks/103828\n",
      "Adding \"new_user_task_lists\" to your \"Asana-Enable\" or \"Asana-Disable\" header will opt in/out to this deprecation and suppress this warning.\n",
      "  warnings.warn(message)\n"
     ]
    },
    {
     "data": {
      "text/plain": [
       "{'gid': '1202490379325039',\n",
       " 'projects': [{'gid': '1137878513587348',\n",
       "   'resource_type': 'project',\n",
       "   'name': 'Data Science'},\n",
       "  {'gid': '1199359221874309',\n",
       "   'resource_type': 'project',\n",
       "   'name': 'Business Chain System'}],\n",
       " 'resource_type': 'task',\n",
       " 'created_at': '2022-06-22T18:29:00.450Z',\n",
       " 'modified_at': '2022-06-23T18:31:01.923Z',\n",
       " 'name': 'Learn to use Nunchucks',\n",
       " 'notes': 'Note: This is a test task created with the python-asana client.',\n",
       " 'completed': False,\n",
       " 'completed_at': None,\n",
       " 'due_on': None,\n",
       " 'due_at': None,\n",
       " 'resource_subtype': 'default_task',\n",
       " 'start_on': None,\n",
       " 'start_at': None,\n",
       " 'tags': [],\n",
       " 'workspace': {'gid': '1137879660321707',\n",
       "  'resource_type': 'workspace',\n",
       "  'name': 'Data Scienctist'},\n",
       " 'num_hearts': 0,\n",
       " 'num_likes': 0,\n",
       " 'permalink_url': 'https://app.asana.com/0/1137878513587348/1202490379325039',\n",
       " 'assignee': {'gid': '1137878878147075',\n",
       "  'resource_type': 'user',\n",
       "  'name': 'Vidharth Kate'},\n",
       " 'parent': None,\n",
       " 'assignee_status': 'inbox',\n",
       " 'hearted': False,\n",
       " 'hearts': [],\n",
       " 'liked': False,\n",
       " 'likes': [],\n",
       " 'followers': [{'gid': '1137878878147075',\n",
       "   'resource_type': 'user',\n",
       "   'name': 'Vidharth Kate'}],\n",
       " 'assignee_section': {'gid': '1200294347889015',\n",
       "  'resource_type': 'section',\n",
       "  'name': 'Recently assigned'},\n",
       " 'memberships': [{'project': {'gid': '1137878513587348',\n",
       "    'resource_type': 'project',\n",
       "    'name': 'Data Science'},\n",
       "   'section': {'gid': '1137878513587350',\n",
       "    'resource_type': 'section',\n",
       "    'name': 'Planning:'}},\n",
       "  {'project': {'gid': '1199359221874309',\n",
       "    'resource_type': 'project',\n",
       "    'name': 'Business Chain System'},\n",
       "   'section': {'gid': '1199359221874310',\n",
       "    'resource_type': 'section',\n",
       "    'name': 'To do'}}],\n",
       " 'custom_fields': [{'gid': '1202488848507235',\n",
       "   'resource_type': 'custom_field',\n",
       "   'created_by': None,\n",
       "   'resource_subtype': 'enum',\n",
       "   'type': 'enum',\n",
       "   'name': 'Priority',\n",
       "   'enabled': True,\n",
       "   'enum_value': None,\n",
       "   'display_value': None,\n",
       "   'enum_options': [{'gid': '1202488848507236',\n",
       "     'resource_type': 'enum_option',\n",
       "     'enabled': True,\n",
       "     'name': 'High',\n",
       "     'color': 'red'},\n",
       "    {'gid': '1202488848507237',\n",
       "     'resource_type': 'enum_option',\n",
       "     'enabled': True,\n",
       "     'name': 'Medium',\n",
       "     'color': 'orange'},\n",
       "    {'gid': '1202488848507238',\n",
       "     'resource_type': 'enum_option',\n",
       "     'enabled': True,\n",
       "     'name': 'Low',\n",
       "     'color': 'yellow-orange'}]},\n",
       "  {'gid': '1202488848507240',\n",
       "   'resource_type': 'custom_field',\n",
       "   'created_by': {'gid': '1137878878147075',\n",
       "    'resource_type': 'user',\n",
       "    'name': 'Vidharth Kate'},\n",
       "   'resource_subtype': 'enum',\n",
       "   'type': 'enum',\n",
       "   'name': 'PA',\n",
       "   'enabled': True,\n",
       "   'enum_value': {'gid': '1202488848507244',\n",
       "    'resource_type': 'enum_option',\n",
       "    'enabled': True,\n",
       "    'name': 'Vidharth 4',\n",
       "    'color': 'yellow-orange'},\n",
       "   'display_value': 'Vidharth 4',\n",
       "   'enum_options': [{'gid': '1202488848507241',\n",
       "     'resource_type': 'enum_option',\n",
       "     'enabled': True,\n",
       "     'name': 'Vidharth1',\n",
       "     'color': 'green'},\n",
       "    {'gid': '1202488848507242',\n",
       "     'resource_type': 'enum_option',\n",
       "     'enabled': True,\n",
       "     'name': 'Vidharth 2',\n",
       "     'color': 'red'},\n",
       "    {'gid': '1202488848507243',\n",
       "     'resource_type': 'enum_option',\n",
       "     'enabled': True,\n",
       "     'name': 'Vidharth 3',\n",
       "     'color': 'orange'},\n",
       "    {'gid': '1202488848507244',\n",
       "     'resource_type': 'enum_option',\n",
       "     'enabled': True,\n",
       "     'name': 'Vidharth 4',\n",
       "     'color': 'yellow-orange'}]}]}"
      ]
     },
     "execution_count": 12,
     "metadata": {},
     "output_type": "execute_result"
    }
   ],
   "source": [
    "#asana library also allow us to update any project or task.\n",
    "client.tasks.update(1202490379325039)"
   ]
  },
  {
   "cell_type": "markdown",
   "id": "ebad2c92-090b-4fad-9087-f31f06efe5e9",
   "metadata": {},
   "source": [
    "**ASANA API HIERARCHY**\n",
    "\n",
    "Workspace->projects->section->tasks"
   ]
  },
  {
   "cell_type": "code",
   "execution_count": 13,
   "id": "fb32af10-6a6c-4f53-a20b-1bdbe23c5ee6",
   "metadata": {},
   "outputs": [
    {
     "data": {
      "text/plain": [
       "[{'gid': '1202490968141513',\n",
       "  'name': 'This is the sub task',\n",
       "  'resource_type': 'task'}]"
      ]
     },
     "execution_count": 13,
     "metadata": {},
     "output_type": "execute_result"
    }
   ],
   "source": [
    "sbtask = client.tasks.subtasks(1202490379325039)\n",
    "list(sbtask)"
   ]
  },
  {
   "cell_type": "code",
   "execution_count": 14,
   "id": "0f4491e2-0327-408b-9aa7-0af2998c7f6e",
   "metadata": {
    "scrolled": true,
    "tags": []
   },
   "outputs": [
    {
     "data": {
      "text/plain": [
       "{'gid': '1202490379325039',\n",
       " 'projects': [{'gid': '1137878513587348',\n",
       "   'resource_type': 'project',\n",
       "   'name': 'Data Science'},\n",
       "  {'gid': '1199359221874309',\n",
       "   'resource_type': 'project',\n",
       "   'name': 'Business Chain System'}],\n",
       " 'resource_type': 'task',\n",
       " 'created_at': '2022-06-22T18:29:00.450Z',\n",
       " 'modified_at': '2022-06-23T18:32:13.580Z',\n",
       " 'name': 'Learn to use Nunchucks',\n",
       " 'notes': 'Note: This is a test task created with the python-asana client.',\n",
       " 'completed': False,\n",
       " 'completed_at': None,\n",
       " 'due_on': None,\n",
       " 'due_at': None,\n",
       " 'resource_subtype': 'default_task',\n",
       " 'start_on': None,\n",
       " 'start_at': None,\n",
       " 'tags': [],\n",
       " 'workspace': {'gid': '1137879660321707',\n",
       "  'resource_type': 'workspace',\n",
       "  'name': 'Data Scienctist'},\n",
       " 'num_hearts': 0,\n",
       " 'num_likes': 0,\n",
       " 'permalink_url': 'https://app.asana.com/0/1137878513587348/1202490379325039',\n",
       " 'assignee': {'gid': '1137878878147075',\n",
       "  'resource_type': 'user',\n",
       "  'name': 'Vidharth Kate'},\n",
       " 'parent': None,\n",
       " 'assignee_status': 'inbox',\n",
       " 'hearted': False,\n",
       " 'hearts': [],\n",
       " 'liked': False,\n",
       " 'likes': [],\n",
       " 'followers': [{'gid': '1137878878147075',\n",
       "   'resource_type': 'user',\n",
       "   'name': 'Vidharth Kate'}],\n",
       " 'assignee_section': {'gid': '1200294347889015',\n",
       "  'resource_type': 'section',\n",
       "  'name': 'Recently assigned'},\n",
       " 'memberships': [{'project': {'gid': '1137878513587348',\n",
       "    'resource_type': 'project',\n",
       "    'name': 'Data Science'},\n",
       "   'section': {'gid': '1137878513587350',\n",
       "    'resource_type': 'section',\n",
       "    'name': 'Planning:'}},\n",
       "  {'project': {'gid': '1199359221874309',\n",
       "    'resource_type': 'project',\n",
       "    'name': 'Business Chain System'},\n",
       "   'section': {'gid': '1199359221874310',\n",
       "    'resource_type': 'section',\n",
       "    'name': 'To do'}}],\n",
       " 'custom_fields': [{'gid': '1202488848507235',\n",
       "   'resource_type': 'custom_field',\n",
       "   'created_by': None,\n",
       "   'resource_subtype': 'enum',\n",
       "   'type': 'enum',\n",
       "   'name': 'Priority',\n",
       "   'enabled': True,\n",
       "   'enum_value': None,\n",
       "   'display_value': None,\n",
       "   'enum_options': [{'gid': '1202488848507236',\n",
       "     'resource_type': 'enum_option',\n",
       "     'enabled': True,\n",
       "     'name': 'High',\n",
       "     'color': 'red'},\n",
       "    {'gid': '1202488848507237',\n",
       "     'resource_type': 'enum_option',\n",
       "     'enabled': True,\n",
       "     'name': 'Medium',\n",
       "     'color': 'orange'},\n",
       "    {'gid': '1202488848507238',\n",
       "     'resource_type': 'enum_option',\n",
       "     'enabled': True,\n",
       "     'name': 'Low',\n",
       "     'color': 'yellow-orange'}]},\n",
       "  {'gid': '1202488848507240',\n",
       "   'resource_type': 'custom_field',\n",
       "   'created_by': {'gid': '1137878878147075',\n",
       "    'resource_type': 'user',\n",
       "    'name': 'Vidharth Kate'},\n",
       "   'resource_subtype': 'enum',\n",
       "   'type': 'enum',\n",
       "   'name': 'PA',\n",
       "   'enabled': True,\n",
       "   'enum_value': {'gid': '1202488848507244',\n",
       "    'resource_type': 'enum_option',\n",
       "    'enabled': True,\n",
       "    'name': 'Vidharth 4',\n",
       "    'color': 'yellow-orange'},\n",
       "   'display_value': 'Vidharth 4',\n",
       "   'enum_options': [{'gid': '1202488848507241',\n",
       "     'resource_type': 'enum_option',\n",
       "     'enabled': True,\n",
       "     'name': 'Vidharth1',\n",
       "     'color': 'green'},\n",
       "    {'gid': '1202488848507242',\n",
       "     'resource_type': 'enum_option',\n",
       "     'enabled': True,\n",
       "     'name': 'Vidharth 2',\n",
       "     'color': 'red'},\n",
       "    {'gid': '1202488848507243',\n",
       "     'resource_type': 'enum_option',\n",
       "     'enabled': True,\n",
       "     'name': 'Vidharth 3',\n",
       "     'color': 'orange'},\n",
       "    {'gid': '1202488848507244',\n",
       "     'resource_type': 'enum_option',\n",
       "     'enabled': True,\n",
       "     'name': 'Vidharth 4',\n",
       "     'color': 'yellow-orange'}]}]}"
      ]
     },
     "execution_count": 14,
     "metadata": {},
     "output_type": "execute_result"
    }
   ],
   "source": [
    "#client.tasks.update_task('1202490379325039')\n",
    "#client.tasks.find_by_project()\n",
    "client.tasks.update_task('1202490379325039',{'custom_fields':{'1202488848507240':'1202488848507244'}})"
   ]
  },
  {
   "cell_type": "code",
   "execution_count": null,
   "id": "6bd25e89-e55e-47be-9078-9c708101b4c8",
   "metadata": {},
   "outputs": [],
   "source": []
  }
 ],
 "metadata": {
  "kernelspec": {
   "display_name": "Python 3 (ipykernel)",
   "language": "python",
   "name": "python3"
  },
  "language_info": {
   "codemirror_mode": {
    "name": "ipython",
    "version": 3
   },
   "file_extension": ".py",
   "mimetype": "text/x-python",
   "name": "python",
   "nbconvert_exporter": "python",
   "pygments_lexer": "ipython3",
   "version": "3.9.12"
  }
 },
 "nbformat": 4,
 "nbformat_minor": 5
}
